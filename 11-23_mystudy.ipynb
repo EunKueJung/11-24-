{
 "cells": [
  {
   "cell_type": "markdown",
   "metadata": {},
   "source": [
    "## 문자열의 이해\n",
    "### 형식 문자 사용"
   ]
  },
  {
   "cell_type": "code",
   "execution_count": 2,
   "metadata": {},
   "outputs": [
    {
     "name": "stdout",
     "output_type": "stream",
     "text": [
      "나는 10000원을 갖고 있다.\n"
     ]
    }
   ],
   "source": [
    "str1=\"나는 %d원을 갖고 있다.\"% 10000\n",
    "print(str1)"
   ]
  },
  {
   "cell_type": "code",
   "execution_count": 3,
   "metadata": {},
   "outputs": [
    {
     "name": "stdout",
     "output_type": "stream",
     "text": [
      "[123.456789]원 입니다.\n"
     ]
    }
   ],
   "source": [
    "money = 123.456789\n",
    "print(\"[%f]원 입니다.\"% money)"
   ]
  },
  {
   "cell_type": "code",
   "execution_count": 4,
   "metadata": {},
   "outputs": [
    {
     "name": "stdout",
     "output_type": "stream",
     "text": [
      "Hello python\n"
     ]
    }
   ],
   "source": [
    "lang = \"python\"\n",
    "str2 = \"Hello %s\" % lang\n",
    "print(str2)"
   ]
  },
  {
   "cell_type": "code",
   "execution_count": 6,
   "metadata": {},
   "outputs": [
    {
     "name": "stdout",
     "output_type": "stream",
     "text": [
      "정모 날짜는 2023년 1월 1일 입니다.\n",
      "약속 날짜는 2023년 3월 5일 입니다.\n"
     ]
    }
   ],
   "source": [
    "str3 = \"%s 날짜는 %d년 %d월 %d일 입니다.\"\n",
    "\n",
    "msg1 = str3%(\"정모\", 2023, 1, 1)\n",
    "print(msg1)\n",
    "\n",
    "msg2 = str3 % (\"약속\", 2023, 3, 5)\n",
    "print(msg2)"
   ]
  },
  {
   "cell_type": "code",
   "execution_count": 7,
   "metadata": {},
   "outputs": [
    {
     "name": "stdout",
     "output_type": "stream",
     "text": [
      "[    120000]원을 입금했습니다.\n"
     ]
    }
   ],
   "source": [
    "print(\"[%10d]원을 입금했습니다.\"%120000)"
   ]
  },
  {
   "cell_type": "code",
   "execution_count": 8,
   "metadata": {},
   "outputs": [
    {
     "name": "stdout",
     "output_type": "stream",
     "text": [
      "[0000120000]원을 입금했습니다.\n"
     ]
    }
   ],
   "source": [
    "print(\"[%010d]원을 입금했습니다.\"%120000)"
   ]
  },
  {
   "cell_type": "code",
   "execution_count": 9,
   "metadata": {},
   "outputs": [
    {
     "name": "stdout",
     "output_type": "stream",
     "text": [
      "[120000    ]원을 입금했습니다.\n"
     ]
    }
   ],
   "source": [
    "print(\"[%-10d]원을 입금했습니다.\"%120000)"
   ]
  },
  {
   "cell_type": "code",
   "execution_count": 10,
   "metadata": {},
   "outputs": [
    {
     "name": "stdout",
     "output_type": "stream",
     "text": [
      "[      대한민국]에 살고 있습니다.\n",
      "[대한민국      ]에 살고 있습니다.\n"
     ]
    }
   ],
   "source": [
    "print(\"[%10s]에 살고 있습니다.\"%\"대한민국\")\n",
    "print(\"[%-10s]에 살고 있습니다.\"%\"대한민국\")"
   ]
  },
  {
   "cell_type": "code",
   "execution_count": 11,
   "metadata": {},
   "outputs": [],
   "source": [
    "mymoney = 12345.6789"
   ]
  },
  {
   "cell_type": "code",
   "execution_count": 13,
   "metadata": {},
   "outputs": [
    {
     "name": "stdout",
     "output_type": "stream",
     "text": [
      "[12345.679]원 입니다.\n"
     ]
    }
   ],
   "source": [
    "print(\"[%0.3f]원 입니다.\" % mymoney)"
   ]
  },
  {
   "cell_type": "code",
   "execution_count": 14,
   "metadata": {},
   "outputs": [
    {
     "name": "stdout",
     "output_type": "stream",
     "text": [
      "[ 12345.679]원 입니다.\n",
      "[12345.679 ]원 입니다.\n"
     ]
    }
   ],
   "source": [
    "print(\"[%10.3f]원 입니다.\"%mymoney)\n",
    "print(\"[%-10.3f]원 입니다.\" % mymoney)"
   ]
  },
  {
   "cell_type": "code",
   "execution_count": 15,
   "metadata": {},
   "outputs": [
    {
     "name": "stdout",
     "output_type": "stream",
     "text": [
      "[012345.679]원 입니다.\n"
     ]
    }
   ],
   "source": [
    "print(\"[%010.3f]원 입니다.\"%mymoney)"
   ]
  },
  {
   "cell_type": "code",
   "execution_count": 17,
   "metadata": {},
   "outputs": [
    {
     "name": "stdout",
     "output_type": "stream",
     "text": [
      "i eat 3 apples\n"
     ]
    }
   ],
   "source": [
    "msg1=\"i eat {0} apples\"\n",
    "print( msg1.format(3))"
   ]
  },
  {
   "cell_type": "code",
   "execution_count": 24,
   "metadata": {},
   "outputs": [
    {
     "ename": "SyntaxError",
     "evalue": "leading zeros in decimal integer literals are not permitted; use an 0o prefix for octal integers (1740752442.py, line 2)",
     "output_type": "error",
     "traceback": [
      "\u001b[1;36m  Cell \u001b[1;32mIn[24], line 2\u001b[1;36m\u001b[0m\n\u001b[1;33m    print( msg2.format(\"개강일\", 2023, 01, 26) )\u001b[0m\n\u001b[1;37m                                          ^\u001b[0m\n\u001b[1;31mSyntaxError\u001b[0m\u001b[1;31m:\u001b[0m leading zeros in decimal integer literals are not permitted; use an 0o prefix for octal integers\n"
     ]
    }
   ],
   "source": [
    "msg2 = \"{0}은 {1}년 {2}월 {3}일 입니다.\"\n",
    "print( msg2.format(\"개강일\", 2023, 01, 26) )"
   ]
  },
  {
   "cell_type": "code",
   "execution_count": 25,
   "metadata": {},
   "outputs": [
    {
     "name": "stdout",
     "output_type": "stream",
     "text": [
      "종강일은 2023년 10월 20일 입니다.\n"
     ]
    }
   ],
   "source": [
    "msg3=\"{name}은 {yy}년 {mm}월 {dd}일 입니다.\"\n",
    "print( msg3.format(mm=10, name=\"종강일\", dd=20, yy=2023))"
   ]
  },
  {
   "cell_type": "code",
   "execution_count": 27,
   "metadata": {},
   "outputs": [
    {
     "name": "stdout",
     "output_type": "stream",
     "text": [
      "생일은 2023년 1월 31일 입니다.\n"
     ]
    }
   ],
   "source": [
    "msg4 = \"{0}은 {yy}년 {mm}월 {dd}일 입니다.\"\n",
    "print( msg4.format(\"생일\", yy=2023, mm=1, dd=31))"
   ]
  },
  {
   "cell_type": "code",
   "execution_count": 30,
   "metadata": {},
   "outputs": [
    {
     "name": "stdout",
     "output_type": "stream",
     "text": [
      "좋은 교과서는 이 책입니다.\n"
     ]
    }
   ],
   "source": [
    "fmt5=\"{1} {name}는 이 {0}입니다.\"\n",
    "rst = fmt5.format(\"책\", \"좋은\", name=\"교과서\")\n",
    "print(rst)"
   ]
  },
  {
   "cell_type": "code",
   "execution_count": 31,
   "metadata": {},
   "outputs": [
    {
     "ename": "SyntaxError",
     "evalue": "positional argument follows keyword argument (1250745427.py, line 2)",
     "output_type": "error",
     "traceback": [
      "\u001b[1;36m  Cell \u001b[1;32mIn[31], line 2\u001b[1;36m\u001b[0m\n\u001b[1;33m    err = result=err.format(name=\"교과서\", \"책\", \"좋은\")\u001b[0m\n\u001b[1;37m                                                 ^\u001b[0m\n\u001b[1;31mSyntaxError\u001b[0m\u001b[1;31m:\u001b[0m positional argument follows keyword argument\n"
     ]
    }
   ],
   "source": [
    "err= \"이 {0}은 {1} {name}입니다.\"\n",
    "err = result=err.format(name=\"교과서\", \"책\", \"좋은\")\n",
    "print(err_result)"
   ]
  },
  {
   "cell_type": "code",
   "execution_count": 32,
   "metadata": {},
   "outputs": [
    {
     "name": "stdout",
     "output_type": "stream",
     "text": [
      "[   Hi]!!Python, [  welcome]~Python\n"
     ]
    }
   ],
   "source": [
    "sort1=\"[{0:>5}]!!Python, [{1:>9}]~Python\"\n",
    "print( sort1.format(\"Hi\", \"welcome\"))"
   ]
  },
  {
   "cell_type": "code",
   "execution_count": 34,
   "metadata": {},
   "outputs": [
    {
     "name": "stdout",
     "output_type": "stream",
     "text": [
      "[Hi   ]!!Python, [welcome  ]~Python\n"
     ]
    }
   ],
   "source": [
    "sort2 = \"[{0:<5}]!!Python, [{1:<9}]~Python\"\n",
    "print( sort2.format(\"Hi\", \"welcome\"))\n"
   ]
  },
  {
   "cell_type": "code",
   "execution_count": 35,
   "metadata": {},
   "outputs": [
    {
     "name": "stdout",
     "output_type": "stream",
     "text": [
      "[    Hi    ]!!Python, [  Hello  ]~Python\n"
     ]
    }
   ],
   "source": [
    "sort3= \"[{0:^10}]!!Python, [{1:^9}]~Python\"\n",
    "print( sort3.format(\"Hi\", \"Hello\"))\n"
   ]
  },
  {
   "cell_type": "code",
   "execution_count": 40,
   "metadata": {},
   "outputs": [
    {
     "name": "stdout",
     "output_type": "stream",
     "text": [
      "[Hi~~~]!!Python!! [**Hello**]!!Python\n"
     ]
    }
   ],
   "source": [
    "blank1 = \"[{0:~<5}]!!Python!! [{1:*^9}]!!Python\"\n",
    "print( blank1.format(\"Hi\", \"Hello\"))"
   ]
  },
  {
   "cell_type": "code",
   "execution_count": 41,
   "metadata": {},
   "outputs": [
    {
     "name": "stdout",
     "output_type": "stream",
     "text": [
      "010-****-5678\n"
     ]
    }
   ],
   "source": [
    "phone=\"010-1234-5678\"\n",
    "blank2 = \"{0}-{1:*>4}-{2}\"\n",
    "result=blank2.format(phone[0:3], \"\", phone[-4:])\n",
    "print(result)"
   ]
  },
  {
   "cell_type": "code",
   "execution_count": 42,
   "metadata": {},
   "outputs": [
    {
     "name": "stdout",
     "output_type": "stream",
     "text": [
      "123.4568\n"
     ]
    }
   ],
   "source": [
    "float1 = \"{0:0.4f}\"\n",
    "print( float1.format(123.456789))"
   ]
  },
  {
   "cell_type": "code",
   "execution_count": 43,
   "metadata": {},
   "outputs": [
    {
     "name": "stdout",
     "output_type": "stream",
     "text": [
      "[  123.4568]\n"
     ]
    }
   ],
   "source": [
    "float2=\"[{0:10.4f}]\"\n",
    "print( float2.format(123.456789))"
   ]
  },
  {
   "cell_type": "code",
   "execution_count": 44,
   "metadata": {},
   "outputs": [
    {
     "name": "stdout",
     "output_type": "stream",
     "text": [
      "00123.4568\n"
     ]
    }
   ],
   "source": [
    "float3=\"{0:010.4f}\"\n",
    "print( float3.format(123.456789))"
   ]
  },
  {
   "cell_type": "code",
   "execution_count": 45,
   "metadata": {},
   "outputs": [
    {
     "name": "stdout",
     "output_type": "stream",
     "text": [
      "{python}은 쉽다\n",
      "{python}은 간결하다\n"
     ]
    }
   ],
   "source": [
    "my=\"{{python}}은 {0}다\"\n",
    "print( my.format(\"쉽\"))\n",
    "print( my.format(\"간결하\"))"
   ]
  },
  {
   "cell_type": "markdown",
   "metadata": {},
   "source": [
    "## 문자열 관련 함수\n",
    "### 내장함수"
   ]
  },
  {
   "cell_type": "code",
   "execution_count": 47,
   "metadata": {},
   "outputs": [
    {
     "name": "stdout",
     "output_type": "stream",
     "text": [
      "12\n"
     ]
    }
   ],
   "source": [
    "mystr=\"Hello python\"\n",
    "length=len(mystr)\n",
    "print(length)"
   ]
  },
  {
   "cell_type": "code",
   "execution_count": 48,
   "metadata": {},
   "outputs": [
    {
     "name": "stdout",
     "output_type": "stream",
     "text": [
      "9\n"
     ]
    }
   ],
   "source": [
    "print(len(\"안녕하세요 파이썬\"))"
   ]
  },
  {
   "cell_type": "code",
   "execution_count": 49,
   "metadata": {},
   "outputs": [],
   "source": [
    "str= \"파이썬 프로그래밍으로 데이터를 분석합니다.\""
   ]
  },
  {
   "cell_type": "code",
   "execution_count": 51,
   "metadata": {},
   "outputs": [
    {
     "name": "stdout",
     "output_type": "stream",
     "text": [
      "2\n",
      "0\n"
     ]
    }
   ],
   "source": [
    "print(str.count(\"이\"))\n",
    "print(str.count(\"가\"))"
   ]
  },
  {
   "cell_type": "code",
   "execution_count": 52,
   "metadata": {},
   "outputs": [
    {
     "name": "stdout",
     "output_type": "stream",
     "text": [
      "1\n",
      "0\n"
     ]
    }
   ],
   "source": [
    "print(str.count(\"파이썬\"))\n",
    "print(str.count(\"python\"))"
   ]
  },
  {
   "cell_type": "code",
   "execution_count": 53,
   "metadata": {},
   "outputs": [],
   "source": [
    "message= \"내가 좋아하는 것에만 집중하기로 했다.\""
   ]
  },
  {
   "cell_type": "code",
   "execution_count": 55,
   "metadata": {},
   "outputs": [
    {
     "name": "stdout",
     "output_type": "stream",
     "text": [
      "1\n",
      "-1\n"
     ]
    }
   ],
   "source": [
    "print(message.find(\"가\"))\n",
    "print(message.find(\"나\"))"
   ]
  },
  {
   "cell_type": "code",
   "execution_count": 56,
   "metadata": {},
   "outputs": [
    {
     "name": "stdout",
     "output_type": "stream",
     "text": [
      "12\n",
      "-1\n"
     ]
    }
   ],
   "source": [
    "print(message.find(\"집중\"))\n",
    "print(message.find(\"파이썬\"))"
   ]
  },
  {
   "cell_type": "code",
   "execution_count": 57,
   "metadata": {},
   "outputs": [],
   "source": [
    "sentence=\"사람의 사람에 의한 사람을 위한\""
   ]
  },
  {
   "cell_type": "code",
   "execution_count": 58,
   "metadata": {},
   "outputs": [
    {
     "name": "stdout",
     "output_type": "stream",
     "text": [
      "11\n",
      "-1\n"
     ]
    }
   ],
   "source": [
    "print(sentence.rfind(\"사\"))\n",
    "print(sentence.rfind(\"자\"))"
   ]
  },
  {
   "cell_type": "code",
   "execution_count": 59,
   "metadata": {},
   "outputs": [
    {
     "name": "stdout",
     "output_type": "stream",
     "text": [
      "11\n",
      "-1\n"
     ]
    }
   ],
   "source": [
    "print( sentence.rfind(\"사람\"))\n",
    "print( sentence.rfind(\"인간\"))"
   ]
  },
  {
   "cell_type": "code",
   "execution_count": 60,
   "metadata": {},
   "outputs": [],
   "source": [
    "str= \"Life is too short, you need python\""
   ]
  },
  {
   "cell_type": "code",
   "execution_count": 62,
   "metadata": {},
   "outputs": [
    {
     "name": "stdout",
     "output_type": "stream",
     "text": [
      "True\n"
     ]
    }
   ],
   "source": [
    "print( str.startswith(\"L\"))"
   ]
  },
  {
   "cell_type": "code",
   "execution_count": 63,
   "metadata": {},
   "outputs": [
    {
     "name": "stdout",
     "output_type": "stream",
     "text": [
      "False\n"
     ]
    }
   ],
   "source": [
    "print( str.startswith(\"l\"))"
   ]
  },
  {
   "cell_type": "code",
   "execution_count": 66,
   "metadata": {},
   "outputs": [
    {
     "name": "stdout",
     "output_type": "stream",
     "text": [
      "True\n"
     ]
    }
   ],
   "source": [
    "print( str.startswith(\"Life\"))"
   ]
  },
  {
   "cell_type": "code",
   "execution_count": 67,
   "metadata": {},
   "outputs": [
    {
     "name": "stdout",
     "output_type": "stream",
     "text": [
      "False\n"
     ]
    }
   ],
   "source": [
    "print( str.startswith(\"life\"))"
   ]
  },
  {
   "cell_type": "code",
   "execution_count": 68,
   "metadata": {},
   "outputs": [],
   "source": [
    "str= \"Life is too short, you need Python\""
   ]
  },
  {
   "cell_type": "code",
   "execution_count": 69,
   "metadata": {},
   "outputs": [
    {
     "name": "stdout",
     "output_type": "stream",
     "text": [
      "False\n"
     ]
    }
   ],
   "source": [
    "print( str.endswith(\"N\"))"
   ]
  },
  {
   "cell_type": "code",
   "execution_count": 70,
   "metadata": {},
   "outputs": [
    {
     "name": "stdout",
     "output_type": "stream",
     "text": [
      "True\n"
     ]
    }
   ],
   "source": [
    "print( str.endswith(\"n\"))"
   ]
  },
  {
   "cell_type": "code",
   "execution_count": 71,
   "metadata": {},
   "outputs": [
    {
     "name": "stdout",
     "output_type": "stream",
     "text": [
      "True\n"
     ]
    }
   ],
   "source": [
    "print( str.endswith(\"Python\"))"
   ]
  },
  {
   "cell_type": "code",
   "execution_count": 72,
   "metadata": {},
   "outputs": [
    {
     "name": "stdout",
     "output_type": "stream",
     "text": [
      "False\n"
     ]
    }
   ],
   "source": [
    "print( str.endswith(\"python\"))"
   ]
  },
  {
   "cell_type": "code",
   "execution_count": 73,
   "metadata": {},
   "outputs": [],
   "source": [
    "str= \"Life is too short, you need Python\""
   ]
  },
  {
   "cell_type": "code",
   "execution_count": 74,
   "metadata": {},
   "outputs": [
    {
     "name": "stdout",
     "output_type": "stream",
     "text": [
      "LIFE IS TOO SHORT, YOU NEED PYTHON\n"
     ]
    }
   ],
   "source": [
    "upchar= str.upper()\n",
    "print(upchar)"
   ]
  },
  {
   "cell_type": "code",
   "execution_count": 75,
   "metadata": {},
   "outputs": [
    {
     "name": "stdout",
     "output_type": "stream",
     "text": [
      "life is too short, you need python\n"
     ]
    }
   ],
   "source": [
    "lowchar= str.lower()\n",
    "print(lowchar)"
   ]
  },
  {
   "cell_type": "code",
   "execution_count": 76,
   "metadata": {},
   "outputs": [
    {
     "name": "stdout",
     "output_type": "stream",
     "text": [
      "Life is too short, you need Python\n"
     ]
    }
   ],
   "source": [
    "print(str)"
   ]
  },
  {
   "cell_type": "code",
   "execution_count": 77,
   "metadata": {},
   "outputs": [
    {
     "name": "stdout",
     "output_type": "stream",
     "text": [
      "lIFE IS TOO SHORT, YOU NEED pYTHON\n"
     ]
    }
   ],
   "source": [
    "print(str.swapcase())"
   ]
  },
  {
   "cell_type": "code",
   "execution_count": 79,
   "metadata": {},
   "outputs": [
    {
     "name": "stdout",
     "output_type": "stream",
     "text": [
      "Life is too short, you need python\n"
     ]
    }
   ],
   "source": [
    "print(str.capitalize())"
   ]
  },
  {
   "cell_type": "code",
   "execution_count": 80,
   "metadata": {},
   "outputs": [
    {
     "name": "stdout",
     "output_type": "stream",
     "text": [
      "Life Is Too Short, You Need Python\n"
     ]
    }
   ],
   "source": [
    "print(str.title())"
   ]
  },
  {
   "cell_type": "code",
   "execution_count": 84,
   "metadata": {},
   "outputs": [
    {
     "name": "stdout",
     "output_type": "stream",
     "text": [
      "[     python     ]\n",
      "[python]\n",
      "[python     ]\n",
      "[     python]\n"
     ]
    }
   ],
   "source": [
    "k=\"     python     \"\n",
    "print(\"[\" + k + \"]\")\n",
    "\n",
    "x=k.strip()\n",
    "print(\"[\" + x + \"]\")\n",
    "\n",
    "y= k.lstrip()\n",
    "print(\"[\" + y + \"]\")\n",
    "\n",
    "z= k.rstrip()\n",
    "print(\"[\" + z + \"]\")"
   ]
  },
  {
   "cell_type": "code",
   "execution_count": 86,
   "metadata": {},
   "outputs": [
    {
     "name": "stdout",
     "output_type": "stream",
     "text": [
      "Hello Python\n",
      "Hello World\n"
     ]
    }
   ],
   "source": [
    "myMessage = \"Hello World\"\n",
    "newMessage = myMessage.replace(\"World\", \"Python\")\n",
    "print(newMessage)\n",
    "print(myMessage)"
   ]
  },
  {
   "cell_type": "markdown",
   "metadata": {},
   "source": [
    "## 연습문제 풀이\n",
    "### 파일의 경로에서 정보 추출하기"
   ]
  },
  {
   "cell_type": "code",
   "execution_count": 117,
   "metadata": {},
   "outputs": [
    {
     "ename": "NameError",
     "evalue": "name 'photo' is not defined",
     "output_type": "error",
     "traceback": [
      "\u001b[1;31m---------------------------------------------------------------------------\u001b[0m",
      "\u001b[1;31mNameError\u001b[0m                                 Traceback (most recent call last)",
      "\u001b[1;32mc:\\Users\\jek35\\Sandea\\B.python\\first_python_programing\\11-23_mystudy.ipynb Cell 61\u001b[0m line \u001b[0;36m2\n\u001b[0;32m      <a href='vscode-notebook-cell:/c%3A/Users/jek35/Sandea/B.python/first_python_programing/11-23_mystudy.ipynb#Y121sZmlsZQ%3D%3D?line=0'>1</a>\u001b[0m s\u001b[39m=\u001b[39m\u001b[39m\"\u001b[39m\u001b[39mC:\u001b[39m\u001b[39m\\\\\u001b[39;00m\u001b[39mmyphoto\u001b[39m\u001b[39m\\\\\u001b[39;00m\u001b[39mhelloworld.jpg\u001b[39m\u001b[39m\"\u001b[39m\n\u001b[1;32m----> <a href='vscode-notebook-cell:/c%3A/Users/jek35/Sandea/B.python/first_python_programing/11-23_mystudy.ipynb#Y121sZmlsZQ%3D%3D?line=1'>2</a>\u001b[0m p1\u001b[39m=\u001b[39mphoto\u001b[39m.\u001b[39mrfind(\u001b[39m\"\u001b[39m\u001b[39m\\\\\u001b[39;00m\u001b[39m\"\u001b[39m)\n\u001b[0;32m      <a href='vscode-notebook-cell:/c%3A/Users/jek35/Sandea/B.python/first_python_programing/11-23_mystudy.ipynb#Y121sZmlsZQ%3D%3D?line=2'>3</a>\u001b[0m p2\u001b[39m=\u001b[39mphoto\u001b[39m.\u001b[39mrfind(\u001b[39m\"\u001b[39m\u001b[39m.\u001b[39m\u001b[39m\"\u001b[39m)\n\u001b[0;32m      <a href='vscode-notebook-cell:/c%3A/Users/jek35/Sandea/B.python/first_python_programing/11-23_mystudy.ipynb#Y121sZmlsZQ%3D%3D?line=3'>4</a>\u001b[0m \u001b[39mprint\u001b[39m(\u001b[39m\"\u001b[39m\u001b[39m폴더의 위치: \u001b[39m\u001b[39m\"\u001b[39m, photo[:p1])\n",
      "\u001b[1;31mNameError\u001b[0m: name 'photo' is not defined"
     ]
    }
   ],
   "source": [
    "s=\"C:\\\\myphoto\\\\helloworld.jpg\"\n",
    "p1=photo.rfind(\"\\\\\")\n",
    "p2=photo.rfind(\".\")\n",
    "print(\"폴더의 위치: \", photo[:p1])\n",
    "print(\"파일 이름: \", photo[P1+1:p2])\n",
    "print(\"확장자\", photo[p2+1:])"
   ]
  },
  {
   "cell_type": "markdown",
   "metadata": {},
   "source": [
    "### 리스트 정의하기"
   ]
  },
  {
   "cell_type": "code",
   "execution_count": 119,
   "metadata": {},
   "outputs": [
    {
     "data": {
      "text/plain": [
       "[98, 82, 73, 64, 100]"
      ]
     },
     "execution_count": 119,
     "metadata": {},
     "output_type": "execute_result"
    }
   ],
   "source": [
    "grade=[98,82,73,64,100]\n",
    "grade"
   ]
  },
  {
   "cell_type": "code",
   "execution_count": 120,
   "metadata": {},
   "outputs": [
    {
     "data": {
      "text/plain": [
       "['철수', '영희', '나영', '민식', '호영']"
      ]
     },
     "execution_count": 120,
     "metadata": {},
     "output_type": "execute_result"
    }
   ],
   "source": [
    "names=[\"철수\", \"영희\", \"나영\", \"민식\", \"호영\"]\n",
    "names"
   ]
  },
  {
   "cell_type": "code",
   "execution_count": 123,
   "metadata": {},
   "outputs": [
    {
     "data": {
      "text/plain": [
       "['철수', 17, 162.4, 68.5, '남자', True]"
      ]
     },
     "execution_count": 123,
     "metadata": {},
     "output_type": "execute_result"
    }
   ],
   "source": [
    "student=[\"철수\", 17, 162.4, 68.5, \"남자\", True]\n",
    "student"
   ]
  },
  {
   "cell_type": "code",
   "execution_count": 124,
   "metadata": {},
   "outputs": [
    {
     "name": "stdout",
     "output_type": "stream",
     "text": [
      "10\n",
      "20\n",
      "30\n"
     ]
    }
   ],
   "source": [
    "items=[10, 20, 30]\n",
    "print(items[0])\n",
    "print(items[1])\n",
    "print(items[2])"
   ]
  },
  {
   "cell_type": "code",
   "execution_count": 125,
   "metadata": {},
   "outputs": [
    {
     "name": "stdout",
     "output_type": "stream",
     "text": [
      "[100, 200, 300]\n",
      "[0, 50, 100]\n"
     ]
    }
   ],
   "source": [
    "mydata=[100, 200, 300]\n",
    "print(mydata)\n",
    "mydata[0]=0\n",
    "mydata[1]= mydata[1]-150\n",
    "mydata[2] //=3\n",
    "print(mydata)"
   ]
  },
  {
   "cell_type": "code",
   "execution_count": 128,
   "metadata": {},
   "outputs": [
    {
     "name": "stdout",
     "output_type": "stream",
     "text": [
      "철수(이)의 점수는 92점 입니다.\n",
      "민영(이)의 점수는 86점 입니다.\n",
      "영수(이)의 점수는 91점 입니다.\n"
     ]
    }
   ],
   "source": [
    "stud1=['철수', 92]\n",
    "stud2=['민영', 86]\n",
    "stud3=['영수', 91]\n",
    "msg=\"{0}(이)의 점수는 {1}점 입니다.\"\n",
    "print( msg.format(stud1[0], stud1[1]))\n",
    "print( msg.format(stud2[0], stud2[1]))\n",
    "print( msg.format(stud3[0], stud3[1]))"
   ]
  },
  {
   "cell_type": "code",
   "execution_count": 129,
   "metadata": {},
   "outputs": [
    {
     "name": "stdout",
     "output_type": "stream",
     "text": [
      "[10, 20, 30]\n",
      "[40, 50, 60]\n"
     ]
    }
   ],
   "source": [
    "list1=[10, 20, 30]\n",
    "list2=[40, 50, 60]\n",
    "print(list1)\n",
    "print(list2)"
   ]
  },
  {
   "cell_type": "code",
   "execution_count": 130,
   "metadata": {},
   "outputs": [
    {
     "name": "stdout",
     "output_type": "stream",
     "text": [
      "[10, 20, 30, 40, 50, 60]\n"
     ]
    }
   ],
   "source": [
    "list3=list1+list2\n",
    "print(list3)"
   ]
  },
  {
   "cell_type": "code",
   "execution_count": 131,
   "metadata": {},
   "outputs": [
    {
     "name": "stdout",
     "output_type": "stream",
     "text": [
      "[10, 20, 30, 10, 20, 30, 10, 20, 30, 10, 20, 30, 10, 20, 30]\n"
     ]
    }
   ],
   "source": [
    "list4=list1*5\n",
    "print(list4)"
   ]
  },
  {
   "cell_type": "code",
   "execution_count": 132,
   "metadata": {},
   "outputs": [
    {
     "name": "stdout",
     "output_type": "stream",
     "text": [
      "[['철수', 92], ['민영', 86], ['영수', 91]]\n"
     ]
    }
   ],
   "source": [
    "std1=[\"철수\", 98]\n",
    "std2=[\"영희\", 82]\n",
    "std1=[\"나영\", 73]\n",
    "\n",
    "studentGroup = [stud1, stud2, stud3]\n",
    "print(studentGroup)"
   ]
  },
  {
   "cell_type": "code",
   "execution_count": 133,
   "metadata": {},
   "outputs": [
    {
     "name": "stdout",
     "output_type": "stream",
     "text": [
      "[['철수', 92], ['민영', 86], ['영수', 91]]\n"
     ]
    }
   ],
   "source": [
    "strudentgroup2=[\n",
    "    [\"민식\", 64, 172.3],\n",
    "    [\"호영\", 100, 175.8],\n",
    "    [\"철민\", 89, 168.7]\n",
    "]\n",
    "print(studentGroup)"
   ]
  },
  {
   "cell_type": "code",
   "execution_count": 134,
   "metadata": {},
   "outputs": [],
   "source": [
    "학생=[[\"민식\", 64, 172.3], [\"호영, 100, 175.8\"], [\"철민\", 89, 168.7]]"
   ]
  },
  {
   "cell_type": "code",
   "execution_count": 135,
   "metadata": {},
   "outputs": [
    {
     "name": "stdout",
     "output_type": "stream",
     "text": [
      "['민식', 64, 172.3]\n"
     ]
    }
   ],
   "source": [
    "print(학생[0])"
   ]
  },
  {
   "cell_type": "code",
   "execution_count": 136,
   "metadata": {},
   "outputs": [
    {
     "name": "stdout",
     "output_type": "stream",
     "text": [
      "['호영, 100, 175.8']\n"
     ]
    }
   ],
   "source": [
    "print(학생[1])"
   ]
  },
  {
   "cell_type": "code",
   "execution_count": 137,
   "metadata": {},
   "outputs": [
    {
     "name": "stdout",
     "output_type": "stream",
     "text": [
      "['철민', 89, 168.7]\n"
     ]
    }
   ],
   "source": [
    "print(학생[2])"
   ]
  },
  {
   "cell_type": "code",
   "execution_count": 141,
   "metadata": {},
   "outputs": [],
   "source": [
    "학생=[[\"민식\", 64, 172.3], [\"호영\", 100, 175.8], [\"철민\", 89, 168.7]]"
   ]
  },
  {
   "cell_type": "code",
   "execution_count": 142,
   "metadata": {},
   "outputs": [],
   "source": [
    "fmt=\"{name}(이)의 몸무게는{weight}kg이고, 키는 {height}cm 입니다.\""
   ]
  },
  {
   "cell_type": "code",
   "execution_count": 143,
   "metadata": {},
   "outputs": [
    {
     "name": "stdout",
     "output_type": "stream",
     "text": [
      "민식(이)의 몸무게는64kg이고, 키는 172.3cm 입니다.\n",
      "호영(이)의 몸무게는100kg이고, 키는 175.8cm 입니다.\n",
      "철민(이)의 몸무게는89kg이고, 키는 168.7cm 입니다.\n"
     ]
    }
   ],
   "source": [
    "print(fmt.format(name=학생[0][0], weight=학생[0][1], height=학생[0][2]))\n",
    "print(fmt.format(name=학생[1][0], weight=학생[1][1], height=학생[1][2]))\n",
    "print(fmt.format(name=학생[2][0], weight=학생[2][1], height=학생[2][2]))"
   ]
  },
  {
   "cell_type": "code",
   "execution_count": 144,
   "metadata": {},
   "outputs": [
    {
     "name": "stdout",
     "output_type": "stream",
     "text": [
      "20\n",
      "30\n"
     ]
    }
   ],
   "source": [
    "mylist=[10, 20, 30]\n",
    "print(mylist[1])\n",
    "print(mylist[-1])"
   ]
  },
  {
   "cell_type": "code",
   "execution_count": 145,
   "metadata": {},
   "outputs": [
    {
     "name": "stdout",
     "output_type": "stream",
     "text": [
      "[10, 20, 30]\n"
     ]
    }
   ],
   "source": [
    "first=mylist\n",
    "print(first)"
   ]
  },
  {
   "cell_type": "code",
   "execution_count": 146,
   "metadata": {},
   "outputs": [
    {
     "name": "stdout",
     "output_type": "stream",
     "text": [
      "[10, 200, 30]\n"
     ]
    }
   ],
   "source": [
    "mylist[1]=200\n",
    "print(mylist)"
   ]
  },
  {
   "cell_type": "code",
   "execution_count": 147,
   "metadata": {},
   "outputs": [],
   "source": [
    "mylist=[60, 70, 80, 90, 100]"
   ]
  },
  {
   "cell_type": "code",
   "execution_count": 148,
   "metadata": {},
   "outputs": [
    {
     "name": "stdout",
     "output_type": "stream",
     "text": [
      "[70, 80]\n"
     ]
    }
   ],
   "source": [
    "print(mylist[1:3])"
   ]
  },
  {
   "cell_type": "code",
   "execution_count": 149,
   "metadata": {},
   "outputs": [
    {
     "name": "stdout",
     "output_type": "stream",
     "text": [
      "[70, 80]\n"
     ]
    }
   ],
   "source": [
    "print(mylist[1:-2])"
   ]
  },
  {
   "cell_type": "code",
   "execution_count": 150,
   "metadata": {},
   "outputs": [
    {
     "name": "stdout",
     "output_type": "stream",
     "text": [
      "[90, 100]\n"
     ]
    }
   ],
   "source": [
    "print(mylist[3:])"
   ]
  },
  {
   "cell_type": "code",
   "execution_count": 151,
   "metadata": {},
   "outputs": [
    {
     "name": "stdout",
     "output_type": "stream",
     "text": [
      "[60, 70, 80]\n"
     ]
    }
   ],
   "source": [
    "print(mylist[:3])"
   ]
  },
  {
   "cell_type": "code",
   "execution_count": 153,
   "metadata": {},
   "outputs": [
    {
     "name": "stdout",
     "output_type": "stream",
     "text": [
      "[60, 70, 80, 90, 100]\n"
     ]
    }
   ],
   "source": [
    "print(mylist[:])"
   ]
  },
  {
   "cell_type": "code",
   "execution_count": 157,
   "metadata": {},
   "outputs": [
    {
     "name": "stdout",
     "output_type": "stream",
     "text": [
      "[1, 20, 30, 40, 5]\n"
     ]
    }
   ],
   "source": [
    "foo=[1,2,3,4,5]\n",
    "foo[1:4]=[20, 30, 40]\n",
    "print(foo)"
   ]
  },
  {
   "cell_type": "code",
   "execution_count": 158,
   "metadata": {},
   "outputs": [
    {
     "name": "stdout",
     "output_type": "stream",
     "text": [
      "[6, 100, 200, 300, 400, 500, 600, 700, 10]\n"
     ]
    }
   ],
   "source": [
    "hello=[6, 7, 8, 9, 10]\n",
    "hello[1:4]=[100, 200, 300, 400, 500, 600, 700]\n",
    "print(hello)"
   ]
  },
  {
   "cell_type": "code",
   "execution_count": 159,
   "metadata": {},
   "outputs": [
    {
     "name": "stdout",
     "output_type": "stream",
     "text": [
      "[11, 1000, 2000, 15]\n"
     ]
    }
   ],
   "source": [
    "world = [11, 12, 13, 14, 15]\n",
    "world[1:4]=[1000, 2000]\n",
    "print(world)"
   ]
  },
  {
   "cell_type": "code",
   "execution_count": 160,
   "metadata": {},
   "outputs": [
    {
     "name": "stdout",
     "output_type": "stream",
     "text": [
      "[11, 55]\n"
     ]
    }
   ],
   "source": [
    "bar=[11, 22, 33, 44, 55]\n",
    "bar[1:4]=[]\n",
    "print(bar)"
   ]
  },
  {
   "cell_type": "code",
   "execution_count": 161,
   "metadata": {},
   "outputs": [
    {
     "name": "stdout",
     "output_type": "stream",
     "text": [
      "(98, 82, 73, 64, 100)\n"
     ]
    }
   ],
   "source": [
    "grade=(98, 82, 73, 64, 100)\n",
    "print(grade)"
   ]
  },
  {
   "cell_type": "code",
   "execution_count": 162,
   "metadata": {},
   "outputs": [
    {
     "name": "stdout",
     "output_type": "stream",
     "text": [
      "['철수', 92]\n"
     ]
    }
   ],
   "source": [
    "names=(\"철수\", \"영희\", \"나영\", \"민식\", \"호영\")\n",
    "print(stud1)"
   ]
  },
  {
   "cell_type": "code",
   "execution_count": 163,
   "metadata": {},
   "outputs": [
    {
     "name": "stdout",
     "output_type": "stream",
     "text": [
      "철수\n",
      "92\n"
     ]
    }
   ],
   "source": [
    "print(stud1[0])\n",
    "print(stud1[1])"
   ]
  },
  {
   "cell_type": "code",
   "execution_count": 164,
   "metadata": {},
   "outputs": [
    {
     "name": "stdout",
     "output_type": "stream",
     "text": [
      "python\n",
      "bigdata\n"
     ]
    }
   ],
   "source": [
    "a, b=[\"python\", \"bigdata\"]\n",
    "print(a)\n",
    "print(b)"
   ]
  },
  {
   "cell_type": "code",
   "execution_count": 165,
   "metadata": {},
   "outputs": [
    {
     "name": "stdout",
     "output_type": "stream",
     "text": [
      "python\n",
      "bigdata\n"
     ]
    }
   ],
   "source": [
    "a, b=(\"python\", \"bigdata\")\n",
    "print(a)\n",
    "print(b)"
   ]
  },
  {
   "cell_type": "code",
   "execution_count": 166,
   "metadata": {},
   "outputs": [
    {
     "ename": "ValueError",
     "evalue": "too many values to unpack (expected 3)",
     "output_type": "error",
     "traceback": [
      "\u001b[1;31m---------------------------------------------------------------------------\u001b[0m",
      "\u001b[1;31mValueError\u001b[0m                                Traceback (most recent call last)",
      "\u001b[1;32mc:\\Users\\jek35\\Sandea\\B.python\\first_python_programing\\11-23_mystudy.ipynb Cell 99\u001b[0m line \u001b[0;36m1\n\u001b[1;32m----> <a href='vscode-notebook-cell:/c%3A/Users/jek35/Sandea/B.python/first_python_programing/11-23_mystudy.ipynb#Y210sZmlsZQ%3D%3D?line=0'>1</a>\u001b[0m a, b, c \u001b[39m=\u001b[39m [\u001b[39m10\u001b[39m, \u001b[39m20\u001b[39m, \u001b[39m30\u001b[39m, \u001b[39m40\u001b[39m]\n",
      "\u001b[1;31mValueError\u001b[0m: too many values to unpack (expected 3)"
     ]
    }
   ],
   "source": [
    "a, b, c = [10, 20, 30, 40]"
   ]
  },
  {
   "cell_type": "code",
   "execution_count": 167,
   "metadata": {},
   "outputs": [
    {
     "name": "stdout",
     "output_type": "stream",
     "text": [
      "100\n",
      "100\n"
     ]
    }
   ],
   "source": [
    "a=100\n",
    "b=a\n",
    "print(a)\n",
    "print(b)"
   ]
  },
  {
   "cell_type": "code",
   "execution_count": 168,
   "metadata": {},
   "outputs": [
    {
     "name": "stdout",
     "output_type": "stream",
     "text": [
      "100\n",
      "200\n"
     ]
    }
   ],
   "source": [
    "b=200\n",
    "print(a)\n",
    "print(b)"
   ]
  },
  {
   "cell_type": "code",
   "execution_count": 169,
   "metadata": {},
   "outputs": [
    {
     "name": "stdout",
     "output_type": "stream",
     "text": [
      "100\n",
      "200\n"
     ]
    }
   ],
   "source": [
    "b=200\n",
    "print(a)\n",
    "print(b)"
   ]
  },
  {
   "cell_type": "code",
   "execution_count": 170,
   "metadata": {},
   "outputs": [
    {
     "name": "stdout",
     "output_type": "stream",
     "text": [
      "[1, 2, 3]\n",
      "[1, 2, 3]\n"
     ]
    }
   ],
   "source": [
    "foo=[1, 2, 3]\n",
    "bar=foo\n",
    "print(foo)\n",
    "print(bar)"
   ]
  },
  {
   "cell_type": "code",
   "execution_count": 171,
   "metadata": {},
   "outputs": [
    {
     "name": "stdout",
     "output_type": "stream",
     "text": [
      "[1, 20, 3]\n",
      "[1, 20, 3]\n"
     ]
    }
   ],
   "source": [
    "bar[1]=20\n",
    "print(foo)\n",
    "print(bar)"
   ]
  },
  {
   "cell_type": "code",
   "execution_count": 172,
   "metadata": {},
   "outputs": [
    {
     "name": "stdout",
     "output_type": "stream",
     "text": [
      "[1, 2, 3]\n",
      "[1, 2, 1000]\n"
     ]
    }
   ],
   "source": [
    "bar=[1, 2, 3]\n",
    "cp1=[0, 0, 0]\n",
    "cp1[0]=bar[0]\n",
    "cp1[1]=bar[1]\n",
    "cp1[2]=bar[2]\n",
    "cp1[2]=1000\n",
    "print(bar)\n",
    "print(cp1)"
   ]
  },
  {
   "cell_type": "code",
   "execution_count": 174,
   "metadata": {},
   "outputs": [
    {
     "name": "stdout",
     "output_type": "stream",
     "text": [
      "[100, 200, 300]\n",
      "[100, 12345, 300]\n"
     ]
    }
   ],
   "source": [
    "hello =[100, 200, 300]\n",
    "cp2=hello[:]\n",
    "\n",
    "cp2[1]=12345\n",
    "print(hello)\n",
    "print(cp2)"
   ]
  },
  {
   "cell_type": "code",
   "execution_count": 176,
   "metadata": {},
   "outputs": [
    {
     "name": "stdout",
     "output_type": "stream",
     "text": [
      "['hello', 'python', 'world']\n",
      "['nice', 'python', 'world']\n"
     ]
    }
   ],
   "source": [
    "world=[\"hello\", \"python\", \"world\"]\n",
    "cp3=world.copy()\n",
    "cp3[0]=\"nice\"\n",
    "print(world)\n",
    "print(cp3)"
   ]
  },
  {
   "cell_type": "code",
   "execution_count": 177,
   "metadata": {},
   "outputs": [
    {
     "name": "stdout",
     "output_type": "stream",
     "text": [
      "3\n"
     ]
    }
   ],
   "source": [
    "mylist=[1,2,3]\n",
    "print(len(mylist))"
   ]
  },
  {
   "cell_type": "code",
   "execution_count": 178,
   "metadata": {},
   "outputs": [
    {
     "name": "stdout",
     "output_type": "stream",
     "text": [
      "[1, 3]\n"
     ]
    }
   ],
   "source": [
    "mylist=[1,2,3]\n",
    "del(mylist[1])\n",
    "print(mylist)"
   ]
  },
  {
   "cell_type": "code",
   "execution_count": 179,
   "metadata": {},
   "outputs": [
    {
     "name": "stdout",
     "output_type": "stream",
     "text": [
      "[4, 2, 5, 3, 1]\n"
     ]
    }
   ],
   "source": [
    "mylist=[4, 2, 5, 3, 1]\n",
    "print(mylist)"
   ]
  },
  {
   "cell_type": "code",
   "execution_count": 180,
   "metadata": {},
   "outputs": [
    {
     "name": "stdout",
     "output_type": "stream",
     "text": [
      "[1, 2, 3, 4, 5]\n"
     ]
    }
   ],
   "source": [
    "asc=sorted(mylist)\n",
    "print(asc)"
   ]
  },
  {
   "cell_type": "code",
   "execution_count": 181,
   "metadata": {},
   "outputs": [
    {
     "name": "stdout",
     "output_type": "stream",
     "text": [
      "[1, 2, 3, 4, 5]\n"
     ]
    }
   ],
   "source": [
    "desc=sorted(mylist, reverse=True)\n",
    "print(asc)"
   ]
  },
  {
   "cell_type": "code",
   "execution_count": 182,
   "metadata": {},
   "outputs": [
    {
     "name": "stdout",
     "output_type": "stream",
     "text": [
      "[5, 4, 3, 2, 1]\n"
     ]
    }
   ],
   "source": [
    "desc=sorted(mylist, reverse=True)\n",
    "print(desc)"
   ]
  },
  {
   "cell_type": "code",
   "execution_count": 183,
   "metadata": {},
   "outputs": [
    {
     "name": "stdout",
     "output_type": "stream",
     "text": [
      "[4, 2, 5, 3, 1]\n"
     ]
    }
   ],
   "source": [
    "print(mylist)"
   ]
  },
  {
   "cell_type": "code",
   "execution_count": 184,
   "metadata": {},
   "outputs": [
    {
     "name": "stdout",
     "output_type": "stream",
     "text": [
      "3\n",
      "1\n",
      "6\n"
     ]
    }
   ],
   "source": [
    "a=[1, 2, 3]\n",
    "print(max(a))\n",
    "print(min(a))\n",
    "print(sum(a))"
   ]
  },
  {
   "cell_type": "code",
   "execution_count": 186,
   "metadata": {},
   "outputs": [
    {
     "name": "stdout",
     "output_type": "stream",
     "text": [
      "2.0\n"
     ]
    }
   ],
   "source": [
    "avg=sum(a)/len(a)\n",
    "print(avg)"
   ]
  },
  {
   "cell_type": "code",
   "execution_count": 187,
   "metadata": {},
   "outputs": [
    {
     "name": "stdout",
     "output_type": "stream",
     "text": [
      "['p', 'y', 't', 'h', 'o', 'n']\n"
     ]
    }
   ],
   "source": [
    "a=\"python\"\n",
    "b=list(a)\n",
    "print(b)"
   ]
  },
  {
   "cell_type": "code",
   "execution_count": 188,
   "metadata": {},
   "outputs": [
    {
     "name": "stdout",
     "output_type": "stream",
     "text": [
      "[1, 2, 3]\n"
     ]
    }
   ],
   "source": [
    "c=(1, 2, 3)\n",
    "d=list(c)\n",
    "print(d)"
   ]
  },
  {
   "cell_type": "code",
   "execution_count": 189,
   "metadata": {},
   "outputs": [
    {
     "name": "stdout",
     "output_type": "stream",
     "text": [
      "[10, 20, 30]\n"
     ]
    }
   ],
   "source": [
    "e=[10, 20, 30]\n",
    "f=list(e)\n",
    "print(f)"
   ]
  },
  {
   "cell_type": "code",
   "execution_count": 190,
   "metadata": {},
   "outputs": [
    {
     "name": "stdout",
     "output_type": "stream",
     "text": [
      "<class 'range'>\n",
      "range(1, 10)\n"
     ]
    }
   ],
   "source": [
    "k=range(1, 10)\n",
    "print(type(k))\n",
    "print(k)"
   ]
  },
  {
   "cell_type": "code",
   "execution_count": 191,
   "metadata": {},
   "outputs": [
    {
     "name": "stdout",
     "output_type": "stream",
     "text": [
      "[1, 2, 3, 4, 5, 6, 7, 8, 9]\n"
     ]
    }
   ],
   "source": [
    "z=list(k)\n",
    "print(z)"
   ]
  },
  {
   "cell_type": "code",
   "execution_count": 193,
   "metadata": {},
   "outputs": [
    {
     "name": "stdout",
     "output_type": "stream",
     "text": [
      "[1, 2, 3, 4, 5, 6, 7, 8, 9]\n"
     ]
    }
   ],
   "source": [
    "k=list(range(1, 10, 3))\n",
    "print(z)"
   ]
  },
  {
   "cell_type": "code",
   "execution_count": 194,
   "metadata": {},
   "outputs": [
    {
     "name": "stdout",
     "output_type": "stream",
     "text": [
      "3\n"
     ]
    }
   ],
   "source": [
    "mylist=[1, 2, 3, 2, 4, 2]\n",
    "c=mylist.count(2)\n",
    "print(c)"
   ]
  },
  {
   "cell_type": "code",
   "execution_count": 195,
   "metadata": {},
   "outputs": [
    {
     "name": "stdout",
     "output_type": "stream",
     "text": [
      "3\n"
     ]
    }
   ],
   "source": [
    "mylist=[1, 2, 3, 10, 1, 2, 3, 10]\n",
    "x=mylist.index(10)\n",
    "print(x)"
   ]
  },
  {
   "cell_type": "code",
   "execution_count": 196,
   "metadata": {},
   "outputs": [
    {
     "ename": "ValueError",
     "evalue": "5 is not in list",
     "output_type": "error",
     "traceback": [
      "\u001b[1;31m---------------------------------------------------------------------------\u001b[0m",
      "\u001b[1;31mValueError\u001b[0m                                Traceback (most recent call last)",
      "\u001b[1;32mc:\\Users\\jek35\\Sandea\\B.python\\first_python_programing\\11-23_mystudy.ipynb Cell 125\u001b[0m line \u001b[0;36m1\n\u001b[1;32m----> <a href='vscode-notebook-cell:/c%3A/Users/jek35/Sandea/B.python/first_python_programing/11-23_mystudy.ipynb#Y245sZmlsZQ%3D%3D?line=0'>1</a>\u001b[0m y\u001b[39m=\u001b[39mmylist\u001b[39m.\u001b[39;49mindex(\u001b[39m5\u001b[39;49m)\n\u001b[0;32m      <a href='vscode-notebook-cell:/c%3A/Users/jek35/Sandea/B.python/first_python_programing/11-23_mystudy.ipynb#Y245sZmlsZQ%3D%3D?line=1'>2</a>\u001b[0m \u001b[39mprint\u001b[39m(y)\n",
      "\u001b[1;31mValueError\u001b[0m: 5 is not in list"
     ]
    }
   ],
   "source": [
    "y=mylist.index(5)\n",
    "print(y)"
   ]
  },
  {
   "cell_type": "code",
   "execution_count": 198,
   "metadata": {},
   "outputs": [
    {
     "name": "stdout",
     "output_type": "stream",
     "text": [
      "[1, 2, 3, 4]\n"
     ]
    }
   ],
   "source": [
    "mylist=[1, 2, 3]\n",
    "mylist.append(4)\n",
    "print(mylist)"
   ]
  },
  {
   "cell_type": "code",
   "execution_count": 199,
   "metadata": {},
   "outputs": [
    {
     "name": "stdout",
     "output_type": "stream",
     "text": [
      "[1, 2, 3, [5, 6]]\n"
     ]
    }
   ],
   "source": [
    "mylist=[1, 2, 3]\n",
    "mylist.append([5, 6])\n",
    "print(mylist)"
   ]
  },
  {
   "cell_type": "code",
   "execution_count": 202,
   "metadata": {},
   "outputs": [
    {
     "name": "stdout",
     "output_type": "stream",
     "text": [
      "[1, 10, 2, 3]\n"
     ]
    }
   ],
   "source": [
    "mylist = [1, 2, 3]\n",
    "mylist.insert( 1 , 10)\n",
    "print(mylist)"
   ]
  },
  {
   "cell_type": "code",
   "execution_count": 204,
   "metadata": {},
   "outputs": [
    {
     "name": "stdout",
     "output_type": "stream",
     "text": [
      "[10, 1, 2, 3]\n"
     ]
    }
   ],
   "source": [
    "mylist = [1, 2, 3]\n",
    "mylist . insert(0, 10)\n",
    "print(mylist)"
   ]
  },
  {
   "cell_type": "code",
   "execution_count": 207,
   "metadata": {},
   "outputs": [
    {
     "name": "stdout",
     "output_type": "stream",
     "text": [
      "[1, 2, 3, 10]\n"
     ]
    }
   ],
   "source": [
    "mylist = [1, 2, 3]\n",
    "lastindex = len(mylist)\n",
    "mylist . insert( lastindex, 10 )\n",
    "print(mylist)"
   ]
  },
  {
   "cell_type": "code",
   "execution_count": 211,
   "metadata": {},
   "outputs": [
    {
     "name": "stdout",
     "output_type": "stream",
     "text": [
      "3\n",
      "[1, 2]\n"
     ]
    }
   ],
   "source": [
    "mylist = [1, 2, 3]\n",
    "k = mylist . pop()\n",
    "print( k)\n",
    "print( mylist )"
   ]
  },
  {
   "cell_type": "code",
   "execution_count": 214,
   "metadata": {},
   "outputs": [
    {
     "name": "stdout",
     "output_type": "stream",
     "text": [
      "[1, 2, 3, 10, 9, 8, 7]\n"
     ]
    }
   ],
   "source": [
    "mylist = [ 1, 2, 3 ]\n",
    "addon = [ 10 , 9, 8, 7 ]\n",
    "mylist . extend (addon )\n",
    "print (mylist )"
   ]
  },
  {
   "cell_type": "code",
   "execution_count": 215,
   "metadata": {},
   "outputs": [
    {
     "name": "stdout",
     "output_type": "stream",
     "text": [
      "[1, 2, 3, 1, 2, 3, 10]\n"
     ]
    }
   ],
   "source": [
    "mylist = [1, 2, 3, 10 , 1, 2, 3, 10]\n",
    "mylist . remove ( 10 )\n",
    "print (mylist )"
   ]
  },
  {
   "cell_type": "code",
   "execution_count": 216,
   "metadata": {},
   "outputs": [
    {
     "name": "stdout",
     "output_type": "stream",
     "text": [
      "[9, 3, 5, 7, 1]\n"
     ]
    }
   ],
   "source": [
    "mylist = [1, 7, 5, 3, 9]\n",
    "mylist . reverse ( )\n",
    "print (mylist )"
   ]
  },
  {
   "cell_type": "code",
   "execution_count": 217,
   "metadata": {},
   "outputs": [
    {
     "name": "stdout",
     "output_type": "stream",
     "text": [
      "[1, 3, 5, 7, 9]\n"
     ]
    }
   ],
   "source": [
    "myllst = [2, 5, 1, 4, 3]\n",
    "mylist . sort ()\n",
    "print (mylist )"
   ]
  },
  {
   "cell_type": "code",
   "execution_count": 218,
   "metadata": {},
   "outputs": [
    {
     "name": "stdout",
     "output_type": "stream",
     "text": [
      "[5, 4, 3, 2, 1]\n"
     ]
    }
   ],
   "source": [
    "mylist = [2, 5, 1, 4, 3]\n",
    "mylist . sort ( reverse=True)\n",
    "print (mylist )"
   ]
  },
  {
   "cell_type": "code",
   "execution_count": 220,
   "metadata": {},
   "outputs": [
    {
     "name": "stdout",
     "output_type": "stream",
     "text": [
      "['Hello', 'Python', 'World', 'Good']\n"
     ]
    }
   ],
   "source": [
    "text = \"Hello,Python,World,Good\"\n",
    "mylist = text . split ( \",\" )\n",
    "print (mylist )"
   ]
  },
  {
   "cell_type": "code",
   "execution_count": 221,
   "metadata": {},
   "outputs": [
    {
     "name": "stdout",
     "output_type": "stream",
     "text": [
      "Hello$Python$World$Good\n"
     ]
    }
   ],
   "source": [
    "dl = \"$\"\n",
    "mylist = [ 'Hello' , 'Python' , 'World' , 'Good' ]\n",
    "text = dl . join(mylist )\n",
    "print( text )"
   ]
  },
  {
   "cell_type": "code",
   "execution_count": 222,
   "metadata": {},
   "outputs": [
    {
     "name": "stdout",
     "output_type": "stream",
     "text": [
      "HelloPythonWorldGood\n"
     ]
    }
   ],
   "source": [
    "empty = \"\"\n",
    "mylist = [ 'Hello' , 'Python' , 'World' , 'Good' ]\n",
    "text = empty . join(mylist )\n",
    "print( text )"
   ]
  },
  {
   "cell_type": "code",
   "execution_count": 223,
   "metadata": {},
   "outputs": [
    {
     "name": "stdout",
     "output_type": "stream",
     "text": [
      "Hello Python World Good\n"
     ]
    }
   ],
   "source": [
    "space = \" \"\n",
    "mylist = [ 'Hello' , 'Python' , 'World' , 'Good' ]\n",
    "text = space . join(mylist )\n",
    "print( text )"
   ]
  },
  {
   "cell_type": "code",
   "execution_count": 224,
   "metadata": {},
   "outputs": [
    {
     "name": "stdout",
     "output_type": "stream",
     "text": [
      "(2, 1)\n"
     ]
    }
   ],
   "source": [
    "c = divmod (7 , 3)\n",
    "print (c)"
   ]
  },
  {
   "cell_type": "code",
   "execution_count": 227,
   "metadata": {},
   "outputs": [
    {
     "name": "stdout",
     "output_type": "stream",
     "text": [
      "33일 8시간\n"
     ]
    }
   ],
   "source": [
    "hours = 800\n",
    "k = divmod (800 , 24)\n",
    "tpl = \"{0}일 {1}시간\"\n",
    "print ( tpl . format (k[0] , k[1] ) )"
   ]
  },
  {
   "cell_type": "code",
   "execution_count": 229,
   "metadata": {},
   "outputs": [
    {
     "name": "stdout",
     "output_type": "stream",
     "text": [
      "37일 12시간\n"
     ]
    }
   ],
   "source": [
    "days , hours = divmod (900 , 24)\n",
    "tpl = \"{0}일 {1}시간\"\n",
    "print ( tpl . format (days , hours ))"
   ]
  },
  {
   "cell_type": "markdown",
   "metadata": {},
   "source": [
    "## 문제풀이\n",
    "### 상위 n명의 점수 구하기"
   ]
  },
  {
   "cell_type": "code",
   "execution_count": 235,
   "metadata": {},
   "outputs": [
    {
     "name": "stdout",
     "output_type": "stream",
     "text": [
      "90.33333333333333\n"
     ]
    }
   ],
   "source": [
    "score=[82, 74, 93, 65, 32, 71, 90, 88, 74]\n",
    "score.sort(reverse=True)\n",
    "avrage_top3scorer=sum(score[0:3])/len(score[0:3])\n",
    "print(avrage_top3scorer)"
   ]
  },
  {
   "cell_type": "code",
   "execution_count": null,
   "metadata": {},
   "outputs": [],
   "source": []
  }
 ],
 "metadata": {
  "kernelspec": {
   "display_name": "Python 3",
   "language": "python",
   "name": "python3"
  },
  "language_info": {
   "codemirror_mode": {
    "name": "ipython",
    "version": 3
   },
   "file_extension": ".py",
   "mimetype": "text/x-python",
   "name": "python",
   "nbconvert_exporter": "python",
   "pygments_lexer": "ipython3",
   "version": "3.12.0"
  },
  "orig_nbformat": 4
 },
 "nbformat": 4,
 "nbformat_minor": 2
}
