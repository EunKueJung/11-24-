{
 "cells": [
  {
   "cell_type": "markdown",
   "metadata": {},
   "source": [
    "## 딕셔너리의 이해\n",
    "### 딕셔너리의 기본 형식"
   ]
  },
  {
   "cell_type": "code",
   "execution_count": 9,
   "metadata": {},
   "outputs": [
    {
     "name": "stdout",
     "output_type": "stream",
     "text": [
      "{'name': '철수', 'phone': '010-1234-5678', 'birth': '0115'}\n"
     ]
    }
   ],
   "source": [
    "mydic = { \"name\": \"철수\", \"phone\" : \"010-1234-5678\" , \"birth\": \"0115\" }\n",
    "print (mydic)"
   ]
  },
  {
   "cell_type": "code",
   "execution_count": 10,
   "metadata": {},
   "outputs": [
    {
     "name": "stdout",
     "output_type": "stream",
     "text": [
      "철수\n"
     ]
    }
   ],
   "source": [
    "print ( mydic [ \"name\" ] )"
   ]
  },
  {
   "cell_type": "code",
   "execution_count": 11,
   "metadata": {},
   "outputs": [
    {
     "name": "stdout",
     "output_type": "stream",
     "text": [
      "010-1234-5678\n"
     ]
    }
   ],
   "source": [
    "phone = mydic [ \"phone\" ]\n",
    "print ( phone )"
   ]
  },
  {
   "cell_type": "code",
   "execution_count": 12,
   "metadata": {},
   "outputs": [
    {
     "name": "stdout",
     "output_type": "stream",
     "text": [
      "{'name': '호영', 'phone': '010-1234-5678', 'birth': '0115'}\n"
     ]
    }
   ],
   "source": [
    "mydic [ \"name\" ]  = \"호영\"\n",
    "print (mydic)"
   ]
  },
  {
   "cell_type": "code",
   "execution_count": 18,
   "metadata": {},
   "outputs": [
    {
     "ename": "KeyError",
     "evalue": "'c'",
     "output_type": "error",
     "traceback": [
      "\u001b[1;31m---------------------------------------------------------------------------\u001b[0m",
      "\u001b[1;31mKeyError\u001b[0m                                  Traceback (most recent call last)",
      "\u001b[1;32mc:\\Users\\jek35\\Sandea\\B.python\\first_python_programing\\11-24_mystudy.ipynb Cell 6\u001b[0m line \u001b[0;36m2\n\u001b[0;32m      <a href='vscode-notebook-cell:/c%3A/Users/jek35/Sandea/B.python/first_python_programing/11-24_mystudy.ipynb#W6sZmlsZQ%3D%3D?line=0'>1</a>\u001b[0m foo \u001b[39m=\u001b[39m {\u001b[39m\"\u001b[39m\u001b[39ma\u001b[39m\u001b[39m\"\u001b[39m : \u001b[39m100\u001b[39m, \u001b[39m\"\u001b[39m\u001b[39mb\u001b[39m\u001b[39m\"\u001b[39m : \u001b[39m200\u001b[39m}\n\u001b[1;32m----> <a href='vscode-notebook-cell:/c%3A/Users/jek35/Sandea/B.python/first_python_programing/11-24_mystudy.ipynb#W6sZmlsZQ%3D%3D?line=1'>2</a>\u001b[0m \u001b[39mprint\u001b[39m ( foo [ \u001b[39m\"\u001b[39;49m\u001b[39mc\u001b[39;49m\u001b[39m\"\u001b[39;49m ] )\n",
      "\u001b[1;31mKeyError\u001b[0m: 'c'"
     ]
    }
   ],
   "source": [
    "foo = {\"a\" : 100, \"b\" : 200}\n",
    "print ( foo [ \"c\" ] )"
   ]
  },
  {
   "cell_type": "code",
   "execution_count": 19,
   "metadata": {},
   "outputs": [
    {
     "name": "stdout",
     "output_type": "stream",
     "text": [
      "{'a': 100, 'b': 200, 'c': 300}\n"
     ]
    }
   ],
   "source": [
    "foo = { \"a\" : 100 , \"b\" : 200}\n",
    "foo [ \"c\" ] = 300\n",
    "print ( foo )"
   ]
  },
  {
   "cell_type": "code",
   "execution_count": 20,
   "metadata": {},
   "outputs": [
    {
     "name": "stdout",
     "output_type": "stream",
     "text": [
      "python\n"
     ]
    },
    {
     "data": {
      "text/plain": [
       "{'msg': 'python'}"
      ]
     },
     "execution_count": 20,
     "metadata": {},
     "output_type": "execute_result"
    }
   ],
   "source": [
    "data = { \"msg\" : \"hello\" , \"msg\" : \"world\" , \"msg\" : \"python\" }\n",
    "print ( data [ 'msg' ] )\n",
    "data"
   ]
  },
  {
   "cell_type": "code",
   "execution_count": 24,
   "metadata": {},
   "outputs": [
    {
     "name": "stdout",
     "output_type": "stream",
     "text": [
      "[철수 ] 나이: 16세, 키: 172.4cm\n",
      "[민수 ] 나이: 17세, 키: 168.2cm\n",
      "[호영 ] 나이: 19세, 키: 170.5cm\n"
     ]
    }
   ],
   "source": [
    "student = {\n",
    "    \"name\": ['철수', '민수', '호영'],\n",
    "    \"age\" : [ 16 , 17 , 19],\n",
    "    \"height\" : [172.4 , 168.2 , 170.5]\n",
    "}\n",
    "tpl = \"[%s ] 나이: %d세, 키: %0.1fcm\"\n",
    "print(tpl % ( student [ 'name' ][0] , student [ 'age' ][0] , student[ 'height' ][0] ))\n",
    "print(tpl % ( student [ 'name' ][ 1] , student [ 'age' ][ 1] , student[ 'height' ][1] ))\n",
    "print(tpl % ( student [ 'name' ][ 2] , student [ 'age' ][ 2] , student[ 'height' ][2] ))"
   ]
  },
  {
   "cell_type": "code",
   "execution_count": 26,
   "metadata": {},
   "outputs": [],
   "source": [
    "grade = [\n",
    "{ \"name\" : \"철수\", \"kor\": 95, \"eng\":88},\n",
    "{ \"name\" : \"영희\" , \"kor\" : 92 , \"eng\" : 90 },\n",
    "{ \"name\" : \"철민\" , \"kor\" : 88 , \"eng\" : 76}\n",
    "]"
   ]
  },
  {
   "cell_type": "code",
   "execution_count": 30,
   "metadata": {},
   "outputs": [
    {
     "name": "stdout",
     "output_type": "stream",
     "text": [
      "0번째 원소 : {'name': '철수', 'kor': 95, 'eng': 88} \n",
      "1번쨰 원소 : {'name': '영희', 'kor': 92, 'eng': 90} \n",
      "2번째 원소 : {'name': '철민', 'kor': 88, 'eng': 76} \n"
     ]
    }
   ],
   "source": [
    "print ( \"0번째 원소 : %s \" % grade[0] )\n",
    "print ( \"1번쨰 원소 : %s \" % grade[1] )\n",
    "print ( \"2번째 원소 : %s \" % grade[2] )"
   ]
  },
  {
   "cell_type": "code",
   "execution_count": 32,
   "metadata": {},
   "outputs": [
    {
     "name": "stdout",
     "output_type": "stream",
     "text": [
      "철수의 국어점수: 95, 영어점수: 88\n",
      "영희의 국어점수: 92, 영어점수: 90\n",
      "철민의 국어점수: 88, 영어점수: 76\n"
     ]
    }
   ],
   "source": [
    "tpl = \"{0}의 국어점수: {1}, 영어점수: {2}\"\n",
    "print ( tpl . format ( grade[ 0][ \"name\" ] , grade [ 0][ \"kor\" ] , grade[ 0][ \"eng\" ] ))\n",
    "print ( tpl . format ( grade[ 1][ \"name\" ] , grade [ 1][ \"kor\" ] , grade[ 1][ \"eng\" ] ))\n",
    "print ( tpl . format ( grade[ 2][ \"name\" ] , grade [ 2][ \"kor\" ] , grade[ 2][ \"eng\" ] ))"
   ]
  },
  {
   "cell_type": "code",
   "execution_count": 49,
   "metadata": {},
   "outputs": [],
   "source": [
    "phone = {\n",
    "    \"apple\" : {\n",
    "    \"name\" : \"iPhone\" ,\n",
    "    \"price\" : \"200$\"\n",
    "    } ,\n",
    "    \"samsung\" : {\n",
    "    \"name\" : \"Galluxy\" ,\n",
    "    \"price\" : \"200만원\"\n",
    "    }\n",
    "}    "
   ]
  },
  {
   "cell_type": "code",
   "execution_count": 50,
   "metadata": {},
   "outputs": [
    {
     "name": "stdout",
     "output_type": "stream",
     "text": [
      "iPhone의 가격은 200$입니다.\n",
      "Galluxy의 가격은 200만원입니다.\n"
     ]
    }
   ],
   "source": [
    "tpl = \"%s의 가격은 %s입니다.\"\n",
    "print( tpl % ( phone[ 'apple' ][ 'name' ] , phone [ 'apple' ][ 'price' ] ) )\n",
    "print( tpl % ( phone[ 'samsung' ][ 'name' ] , phone [ 'samsung' ][ 'price' ] ) )"
   ]
  },
  {
   "cell_type": "code",
   "execution_count": 51,
   "metadata": {},
   "outputs": [
    {
     "data": {
      "text/plain": [
       "{'items': [{'email': 'user1@python.com', 'comment': 'Good~!!'},\n",
       "  {'email': 'user2@python.com', 'comment': 'Nice~!!'},\n",
       "  {'email': 'user3@python.com', 'comment': 'Not Bad'}]}"
      ]
     },
     "execution_count": 51,
     "metadata": {},
     "output_type": "execute_result"
    }
   ],
   "source": [
    "review = {\n",
    "    \"items\" : [\n",
    "\n",
    "        { \"email\" : \"user1@python.com\" , \"comment\" : \"Good~!!\" } ,\n",
    "        { \"email\" : \"user2@python.com\" , \"comment\" : \"Nice~!!\" },\n",
    "        { \"email\" : \"user3@python.com\" , \"comment\" : \"Not Bad\" }\n",
    "    ]\n",
    "}\n",
    "review"
   ]
  },
  {
   "cell_type": "code",
   "execution_count": 53,
   "metadata": {},
   "outputs": [],
   "source": [
    "lectures = {\n",
    "    \"teacher\" : \"이광호 강사\" ,\n",
    "    \"category\" : \"프로그래밍\" ,\n",
    "    \"subject\" : [\n",
    "        { \"no\" : 1, \"title\" : \"파이썬 프로그래밍\" , \"date\" : \"2023-03-01\" },\n",
    "        { \"no\" : 2, \"title\" : \"자바 프로그래밍\" , \"date\" : \"2023-04-01\" },\n",
    "        { \"no\" : 3, \"title\" : \"데이터분석\" , \"date\" : \"2023-05-01\"}\n",
    "    ]\n",
    "}"
   ]
  },
  {
   "cell_type": "code",
   "execution_count": 92,
   "metadata": {},
   "outputs": [
    {
     "name": "stdout",
     "output_type": "stream",
     "text": [
      "[이광호 강사가 진행하는 프로그래밍 수업]\n",
      "1 . 파이썬 프로그래밍 -> 개강일: 2023-03-01 \n",
      "2 . 자바 프로그래밍 -> 개강일: 2023-04-01 \n",
      "3 . 데이터분석 -> 개강일: 2023-05-01 \n"
     ]
    }
   ],
   "source": [
    "print (\"[%s가 진행하는 %s 수업]\" % (lectures ['teacher'] , lectures ['category']))\n",
    "\n",
    "tpl = \"%d . %s -> 개강일: %s \"\n",
    "print (tpl % (lectures [ 'subject' ][0][ 'no' ] , lectures [ 'subject' ][0][ 'title' ] , lectures [ 'subject' ][0][ 'date' ] ) )\n",
    "print (tpl % (lectures [ 'subject' ][1][ 'no' ] , lectures [ 'subject' ][1][ 'title' ] , lectures [ 'subject' ][1][ 'date' ] ) )\n",
    "print (tpl % (lectures [ 'subject' ][2][ 'no' ] , lectures [ 'subject' ][2][ 'title' ] , lectures [ 'subject' ][2][ 'date' ] ) )"
   ]
  },
  {
   "cell_type": "code",
   "execution_count": 62,
   "metadata": {},
   "outputs": [
    {
     "data": {
      "text/plain": [
       "3"
      ]
     },
     "execution_count": 62,
     "metadata": {},
     "output_type": "execute_result"
    }
   ],
   "source": [
    "point = { \"korean\" : 98 , \"math\" : 77 , \"english\" : 82 }\n",
    "len ( point )"
   ]
  },
  {
   "cell_type": "code",
   "execution_count": 63,
   "metadata": {},
   "outputs": [
    {
     "name": "stdout",
     "output_type": "stream",
     "text": [
      "{'korean': 98, 'math': 77, 'english': 82}\n",
      "{'korean': 98, 'math': 77}\n"
     ]
    }
   ],
   "source": [
    "point = {\"korean\" : 98 , \"math\" : 77 , \"english\" : 82}\n",
    "print ( point )\n",
    "del ( point [ 'english' ] )\n",
    "print ( point )"
   ]
  },
  {
   "cell_type": "code",
   "execution_count": 66,
   "metadata": {},
   "outputs": [
    {
     "name": "stdout",
     "output_type": "stream",
     "text": [
      "철수\n"
     ]
    }
   ],
   "source": [
    "dic = { \"name\":\"철수\", \"phone\" : \"010-1234-5678\" , \"birth\" : \"0115\" }\n",
    "print (dic.get ( \"name\" ) )"
   ]
  },
  {
   "cell_type": "code",
   "execution_count": 67,
   "metadata": {},
   "outputs": [
    {
     "name": "stdout",
     "output_type": "stream",
     "text": [
      "None\n"
     ]
    }
   ],
   "source": [
    "print ( dic . get ( \"gender\" ) )"
   ]
  },
  {
   "cell_type": "code",
   "execution_count": 69,
   "metadata": {},
   "outputs": [
    {
     "ename": "KeyError",
     "evalue": "'c'",
     "output_type": "error",
     "traceback": [
      "\u001b[1;31m---------------------------------------------------------------------------\u001b[0m",
      "\u001b[1;31mKeyError\u001b[0m                                  Traceback (most recent call last)",
      "\u001b[1;32mc:\\Users\\jek35\\Sandea\\B.python\\first_python_programing\\11-24_mystudy.ipynb Cell 22\u001b[0m line \u001b[0;36m2\n\u001b[0;32m      <a href='vscode-notebook-cell:/c%3A/Users/jek35/Sandea/B.python/first_python_programing/11-24_mystudy.ipynb#X31sZmlsZQ%3D%3D?line=0'>1</a>\u001b[0m foo \u001b[39m=\u001b[39m { \u001b[39m\"\u001b[39m\u001b[39ma\u001b[39m\u001b[39m\"\u001b[39m : \u001b[39m100\u001b[39m , \u001b[39m\"\u001b[39m\u001b[39mb\u001b[39m\u001b[39m\"\u001b[39m : \u001b[39m200\u001b[39m }\n\u001b[1;32m----> <a href='vscode-notebook-cell:/c%3A/Users/jek35/Sandea/B.python/first_python_programing/11-24_mystudy.ipynb#X31sZmlsZQ%3D%3D?line=1'>2</a>\u001b[0m \u001b[39mprint\u001b[39m ( foo [ \u001b[39m\"\u001b[39;49m\u001b[39mc\u001b[39;49m\u001b[39m\"\u001b[39;49m ] )\n",
      "\u001b[1;31mKeyError\u001b[0m: 'c'"
     ]
    }
   ],
   "source": [
    "foo = { \"a\" : 100 , \"b\" : 200 }\n",
    "print ( foo [ \"c\" ] )"
   ]
  },
  {
   "cell_type": "code",
   "execution_count": 70,
   "metadata": {},
   "outputs": [
    {
     "name": "stdout",
     "output_type": "stream",
     "text": [
      "300\n"
     ]
    }
   ],
   "source": [
    "print ( foo . get ( \"c\" , 300 ) )"
   ]
  },
  {
   "cell_type": "code",
   "execution_count": 71,
   "metadata": {},
   "outputs": [],
   "source": [
    "성적표= { \"국어\" : 92 , \"수학\" : 88 , \"영어\" : 72 }"
   ]
  },
  {
   "cell_type": "code",
   "execution_count": 72,
   "metadata": {},
   "outputs": [
    {
     "name": "stdout",
     "output_type": "stream",
     "text": [
      "dict_keys(['국어', '수학', '영어'])\n"
     ]
    }
   ],
   "source": [
    "keys = 성적표 . keys ( )\n",
    "print ( keys )"
   ]
  },
  {
   "cell_type": "code",
   "execution_count": 73,
   "metadata": {},
   "outputs": [
    {
     "name": "stdout",
     "output_type": "stream",
     "text": [
      "['국어', '수학', '영어']\n"
     ]
    }
   ],
   "source": [
    "key_list = list ( keys )\n",
    "print ( key_list )"
   ]
  },
  {
   "cell_type": "code",
   "execution_count": 74,
   "metadata": {},
   "outputs": [
    {
     "data": {
      "text/plain": [
       "['국어', '수학', '영어']"
      ]
     },
     "execution_count": 74,
     "metadata": {},
     "output_type": "execute_result"
    }
   ],
   "source": [
    "keyList = list (성적표. keys ( ) )\n",
    "keyList"
   ]
  },
  {
   "cell_type": "code",
   "execution_count": 75,
   "metadata": {},
   "outputs": [],
   "source": [
    "성적표= { \"국어\" : 92 , \"수학\" : 88 , \"영어\" : 72 }"
   ]
  },
  {
   "cell_type": "code",
   "execution_count": 77,
   "metadata": {},
   "outputs": [
    {
     "name": "stdout",
     "output_type": "stream",
     "text": [
      "dict_values([92, 88, 72])\n"
     ]
    }
   ],
   "source": [
    "values= 성적표.values()\n",
    "print(values)"
   ]
  },
  {
   "cell_type": "code",
   "execution_count": 78,
   "metadata": {},
   "outputs": [
    {
     "name": "stdout",
     "output_type": "stream",
     "text": [
      "[92, 88, 72]\n"
     ]
    }
   ],
   "source": [
    "value_list=list(values)\n",
    "print(value_list)"
   ]
  },
  {
   "cell_type": "code",
   "execution_count": 79,
   "metadata": {},
   "outputs": [
    {
     "data": {
      "text/plain": [
       "[92, 88, 72]"
      ]
     },
     "execution_count": 79,
     "metadata": {},
     "output_type": "execute_result"
    }
   ],
   "source": [
    "valueList = list(성적표. values () )\n",
    "valueList"
   ]
  },
  {
   "cell_type": "code",
   "execution_count": 80,
   "metadata": {},
   "outputs": [],
   "source": [
    "성적표= { \"국어\" : 92 , \"수학\" : 88 , \"영어\" : 72 }"
   ]
  },
  {
   "cell_type": "code",
   "execution_count": 83,
   "metadata": {},
   "outputs": [
    {
     "name": "stdout",
     "output_type": "stream",
     "text": [
      "dict_items([('국어', 92), ('수학', 88), ('영어', 72)])\n"
     ]
    }
   ],
   "source": [
    "items = 성적표.items ( )\n",
    "print ( items )"
   ]
  },
  {
   "cell_type": "code",
   "execution_count": 84,
   "metadata": {},
   "outputs": [
    {
     "name": "stdout",
     "output_type": "stream",
     "text": [
      "[('국어', 92), ('수학', 88), ('영어', 72)]\n"
     ]
    }
   ],
   "source": [
    "lists = list ( items )\n",
    "print ( lists )"
   ]
  },
  {
   "cell_type": "code",
   "execution_count": 85,
   "metadata": {},
   "outputs": [
    {
     "name": "stdout",
     "output_type": "stream",
     "text": [
      "[('국어', 92), ('수학', 88), ('영어', 72)]\n"
     ]
    }
   ],
   "source": [
    "print(list(성적표.items()))"
   ]
  },
  {
   "cell_type": "code",
   "execution_count": 87,
   "metadata": {},
   "outputs": [
    {
     "name": "stdout",
     "output_type": "stream",
     "text": [
      "{'국어': 92, '수학': 88, '영어': 72, '물리': 78, '화학': 82}\n"
     ]
    }
   ],
   "source": [
    "성적표1 = { \"국어\" : 92 , \"수학\" : 88 , \"영어\" : 72 }\n",
    "성적표2 = { \"물리\" : 78 , \"화학\" : 82 }\n",
    "\n",
    "성적표1.update(성적표2)\n",
    "print(성적표1)"
   ]
  },
  {
   "cell_type": "code",
   "execution_count": 93,
   "metadata": {},
   "outputs": [
    {
     "name": "stdout",
     "output_type": "stream",
     "text": [
      "{'국어': 92, '수학': 88, '영어': 72, '물리': 78, '화학': 82}\n"
     ]
    }
   ],
   "source": [
    "성적표최종=성적표1.copy()\n",
    "print(성적표최종)"
   ]
  },
  {
   "cell_type": "code",
   "execution_count": 90,
   "metadata": {},
   "outputs": [
    {
     "name": "stdout",
     "output_type": "stream",
     "text": [
      "{'a': 100, 'b': 200}\n",
      "{}\n"
     ]
    }
   ],
   "source": [
    "bar={\"a\": 100, \"b\":200}\n",
    "print(bar)\n",
    "\n",
    "bar.clear()\n",
    "print(bar)"
   ]
  },
  {
   "cell_type": "markdown",
   "metadata": {},
   "source": [
    "## IF문"
   ]
  },
  {
   "cell_type": "code",
   "execution_count": 95,
   "metadata": {},
   "outputs": [
    {
     "name": "stdout",
     "output_type": "stream",
     "text": [
      "시험시작\n",
      "합격입니다.\n",
      "시험 끝\n"
     ]
    }
   ],
   "source": [
    "print(\"시험시작\")\n",
    "score=int(input(\"점수를 입력하세요\"))\n",
    "if score>=60:\n",
    "    print(\"합격입니다.\")\n",
    "    print(\"시험 끝\")"
   ]
  },
  {
   "cell_type": "code",
   "execution_count": 96,
   "metadata": {},
   "outputs": [
    {
     "name": "stdout",
     "output_type": "stream",
     "text": [
      "택시를 타고\n",
      "집에가자\n"
     ]
    }
   ],
   "source": [
    "money=10000\n",
    "if money:\n",
    "    print(\"택시를 타고\")\n",
    "print(\"집에가자\")"
   ]
  },
  {
   "cell_type": "code",
   "execution_count": 98,
   "metadata": {},
   "outputs": [
    {
     "name": "stdout",
     "output_type": "stream",
     "text": [
      "python\n",
      "프로그래밍\n"
     ]
    }
   ],
   "source": [
    "name=\"python\"\n",
    "if name:\n",
    "    print(name)\n",
    "\n",
    "print(\"프로그래밍\")"
   ]
  },
  {
   "cell_type": "code",
   "execution_count": 117,
   "metadata": {},
   "outputs": [
    {
     "name": "stdout",
     "output_type": "stream",
     "text": [
      "국어: 100 , 영어: 80 , 수학: 70 \n",
      "성적처리\n"
     ]
    }
   ],
   "source": [
    "grade = [ 100 , 80 , 70 ]\n",
    "#grade=[]\n",
    "if grade :\n",
    "    msg = \"국어: {0} , 영어: {1} , 수학: {2} \"\n",
    "    print (msg.format(grade[0],grade\n",
    "    [1], grade[2]))\n",
    "print ( \"성적처리\" )"
   ]
  },
  {
   "cell_type": "code",
   "execution_count": 119,
   "metadata": {},
   "outputs": [
    {
     "name": "stdout",
     "output_type": "stream",
     "text": [
      "20살이 아닙니다.\n",
      "청소년입니다.\n"
     ]
    }
   ],
   "source": [
    "myage = int ( input ( '나이를 입력하세요' ) )\n",
    "if myage == 19 :\n",
    "    print ( \"19살 입니다\" )\n",
    "if myage != 20 :\n",
    "    print ( \"20살이 아닙니다.\" )\n",
    "if myage > 19 :\n",
    "    print ( \"성인입니다.\" )\n",
    "if myage <= 19 :\n",
    "    print ( \"청소년입니다.\" )"
   ]
  },
  {
   "cell_type": "code",
   "execution_count": 120,
   "metadata": {},
   "outputs": [
    {
     "name": "stdout",
     "output_type": "stream",
     "text": [
      "입력값은 60입니다.\n",
      "C학점이 아닙니다. \n"
     ]
    }
   ],
   "source": [
    "point = int ( input ( \"점수를 입력하세요.\" ) )\n",
    "print ( \"입력값은 %d입니다.\" % point )\n",
    "\n",
    "if point > 70 and point <= 80 :\n",
    "    print ( \"C학점 입니다.\" )\n",
    "\n",
    "if point <= 70 or point > 80 :\n",
    "    print ( \"C학점이 아닙니다. \" )"
   ]
  },
  {
   "cell_type": "code",
   "execution_count": 123,
   "metadata": {},
   "outputs": [
    {
     "name": "stdout",
     "output_type": "stream",
     "text": [
      "한국사람입니다...(1)\n",
      "한국사람입니다...(4)\n",
      "한국사람입니다...(5)\n"
     ]
    }
   ],
   "source": [
    "isKorean = True\n",
    "\n",
    "if isKorean == True :\n",
    "    print( \"한국사람입니다...(1)\" )\n",
    "if isKorean == False :\n",
    "    print( \"한국사람이 아닙니다... ( 2)\" )\n",
    "if isKorean != True :\n",
    "    print( \"한국사람이 아닙니다... (3)\" )\n",
    "if isKorean != False :\n",
    "    print( \"한국사람입니다...(4)\" )\n",
    "if isKorean :\n",
    "    print( \"한국사람입니다...(5)\" )\n",
    "if not isKorean :\n",
    "    print( \"한국사람이 아닙니다...(6)\" )"
   ]
  },
  {
   "cell_type": "code",
   "execution_count": 125,
   "metadata": {},
   "outputs": [
    {
     "name": "stdout",
     "output_type": "stream",
     "text": [
      "2) b와 c는 다르다\n"
     ]
    }
   ],
   "source": [
    "a = 123.0\n",
    "b = 123\n",
    "if a != b:\n",
    "    print(\"1) a와 b는 다르다\" )\n",
    "if a is not b:\n",
    "    print(\"2) b와 c는 다르다\" )"
   ]
  },
  {
   "cell_type": "code",
   "execution_count": 127,
   "metadata": {},
   "outputs": [],
   "source": [
    "userl = \"hello\"\n",
    "user2 = \"world\"\n",
    "memberList = ['hello' , 'python' , 'life']"
   ]
  },
  {
   "cell_type": "code",
   "execution_count": 128,
   "metadata": {},
   "outputs": [
    {
     "name": "stdout",
     "output_type": "stream",
     "text": [
      "True\n"
     ]
    }
   ],
   "source": [
    "a = userl in memberList\n",
    "print (a)"
   ]
  },
  {
   "cell_type": "code",
   "execution_count": 129,
   "metadata": {},
   "outputs": [
    {
     "name": "stdout",
     "output_type": "stream",
     "text": [
      "False\n"
     ]
    }
   ],
   "source": [
    "b = user2 in memberList\n",
    "print (b)"
   ]
  },
  {
   "cell_type": "code",
   "execution_count": 130,
   "metadata": {},
   "outputs": [],
   "source": [
    "userl = \"hello\"\n",
    "user2 = \"world\"\n",
    "memberList = [ 'hello' , 'python' , 'life' ]"
   ]
  },
  {
   "cell_type": "code",
   "execution_count": 131,
   "metadata": {},
   "outputs": [
    {
     "name": "stdout",
     "output_type": "stream",
     "text": [
      "True\n"
     ]
    }
   ],
   "source": [
    "a = user1 in memberList\n",
    "print (a)"
   ]
  },
  {
   "cell_type": "code",
   "execution_count": 132,
   "metadata": {},
   "outputs": [
    {
     "name": "stdout",
     "output_type": "stream",
     "text": [
      "False\n"
     ]
    }
   ],
   "source": [
    "b = user2 in memberList\n",
    "print (b)"
   ]
  },
  {
   "cell_type": "code",
   "execution_count": 133,
   "metadata": {},
   "outputs": [],
   "source": [
    "userl = \"hello\"\n",
    "user2 = \"world\"\n",
    "memberList = [ 'hello' , 'python' , 'life' ]"
   ]
  },
  {
   "cell_type": "code",
   "execution_count": 135,
   "metadata": {},
   "outputs": [
    {
     "name": "stdout",
     "output_type": "stream",
     "text": [
      "hello(은)는 이미 가입되어 있습니다\n"
     ]
    }
   ],
   "source": [
    "if user1 in memberList :\n",
    "    print ( userl + \"(은)는 이미 가입되어 있습니다\" )"
   ]
  },
  {
   "cell_type": "code",
   "execution_count": 137,
   "metadata": {},
   "outputs": [],
   "source": [
    "if user2 in memberList :\n",
    "    print ( user2 + \"(은)는 이미 가입되어 있습니다.\" )"
   ]
  },
  {
   "cell_type": "code",
   "execution_count": 138,
   "metadata": {},
   "outputs": [],
   "source": [
    "user1 = \"hello\"\n",
    "user2 = \"world\"\n",
    "memberList = [ 'hello' , 'python' , 'life' ]"
   ]
  },
  {
   "cell_type": "code",
   "execution_count": 139,
   "metadata": {},
   "outputs": [],
   "source": [
    "if user1 not in memberList :\n",
    "    print ( user1 + \"(은)는 이미 가입되어 있습니다.\" )"
   ]
  },
  {
   "cell_type": "code",
   "execution_count": 141,
   "metadata": {},
   "outputs": [
    {
     "name": "stdout",
     "output_type": "stream",
     "text": [
      "world(은)는 이미 가입되어 있지 않습니다.\n"
     ]
    }
   ],
   "source": [
    "if user2 not in memberList :\n",
    "    print ( user2 + \"(은)는 이미 가입되어 있지 않습니다.\" )"
   ]
  },
  {
   "cell_type": "code",
   "execution_count": 145,
   "metadata": {},
   "outputs": [
    {
     "name": "stdout",
     "output_type": "stream",
     "text": [
      "시험시작\n",
      "입력값은 90입니다.\n",
      "합격입니다.\n",
      "시험 끝\n"
     ]
    }
   ],
   "source": [
    "print( \"시험시작\" )\n",
    "score = int( input( \"점수를 입력하세요\" ) )\n",
    "print( \"입력값은 %d입니다.\" % score )\n",
    "if score >= 60 :\n",
    "    print( \"합격입니다.\" )\n",
    "else :\n",
    "    print( \"불합격입니다.\" )\n",
    "print( \"시험 끝\" )"
   ]
  },
  {
   "cell_type": "code",
   "execution_count": 154,
   "metadata": {},
   "outputs": [
    {
     "name": "stdout",
     "output_type": "stream",
     "text": [
      "입력값은 Y입니다.\n",
      "한국사람 입니다...(1)\n",
      "한국사람 입니다...(4)\n"
     ]
    }
   ],
   "source": [
    "answer = input ( \"한국인입니까? (Y/N)\" )\n",
    "print ( \"입력값은 %s입니다.\" % answer )\n",
    "\n",
    "if answer.upper() == \"Y\" :\n",
    "    isKorean = True\n",
    "else :\n",
    "    isKorean = False\n",
    "\n",
    "if isKorean :\n",
    "    print ( \"한국사람 입니다...(1)\" )\n",
    "else :\n",
    "    print ( \"한국사람이 아닙니다...(2)\" )\n",
    "\n",
    "if not isKorean :\n",
    "    print ( \"한국사람이 아닙니다...(3)\" )\n",
    "else :\n",
    "    print ( \"한국사람 입니다...(4)\" )"
   ]
  },
  {
   "cell_type": "code",
   "execution_count": 153,
   "metadata": {},
   "outputs": [
    {
     "name": "stdout",
     "output_type": "stream",
     "text": [
      "시험시작\n",
      "입력값은 90입니다.\n",
      "B학점\n",
      "시험 끝\n"
     ]
    }
   ],
   "source": [
    "print(\"시험시작\")\n",
    "\n",
    "point = int(input( \"점수를 입력하세요.\"))\n",
    "print( \"입력값은 %d입니다.\" % point)\n",
    "\n",
    "if point > 90 :\n",
    "    print ( \"A학점\" )\n",
    "elif point > 80 :\n",
    "    print ( \"B학점\" )\n",
    "elif point > 70 :\n",
    "    print ( \"C학점\" )\n",
    "elif point > 60 :\n",
    "    print ( \"D학점\" )\n",
    "else :\n",
    "    print ( \"F학점\" )\n",
    "print( \"시험 끝\" )"
   ]
  },
  {
   "cell_type": "markdown",
   "metadata": {},
   "source": [
    "## 연령대 구하기 문제풀이\n",
    "### 프로그램이 실행되었을 때 자신의 나이를 입력 받도록 구성하고 그 나이를 토대로 연령대를 계산하여 출력하는 프로그램을 작성하세요."
   ]
  },
  {
   "cell_type": "code",
   "execution_count": 162,
   "metadata": {},
   "outputs": [
    {
     "name": "stdout",
     "output_type": "stream",
     "text": [
      "당신은 노년층 입니다.\n"
     ]
    }
   ],
   "source": [
    "age = int(input( \"나이를 입력하세요:\"))\n",
    "if age <=9:\n",
    "    print(\"당신은 어린이 입니다.\")\n",
    "elif age <=19:\n",
    "    print(\"당신은 10대 입니다.\")\n",
    "elif age <=29:\n",
    "    print(\"당신은 20대 입니다.\")\n",
    "elif age <=39:\n",
    "    print(\"당신은 30대 입니다.\")\n",
    "elif age <=49:\n",
    "    print(\"당신은 40대 입니다.\")\n",
    "elif age <=59:\n",
    "    print(\"당신은 50대 입니다.\")\n",
    "else :\n",
    "    print(\"당신은 노년층 입니다.\")"
   ]
  },
  {
   "cell_type": "code",
   "execution_count": 171,
   "metadata": {},
   "outputs": [
    {
     "name": "stdout",
     "output_type": "stream",
     "text": [
      "30대\n"
     ]
    }
   ],
   "source": [
    "age = int(input( \"나이를 입력하세요\"))\n",
    "\n",
    "level = (age//10)\n",
    "\n",
    "if level == 0:\n",
    "    print(\"어린이\")\n",
    "elif level >=6:\n",
    "    print(\"노년층\")\n",
    "else:\n",
    "    print(\"%d대\" % (level * 10))"
   ]
  },
  {
   "cell_type": "markdown",
   "metadata": {},
   "source": [
    "### 비만도 구하기 문제풀이"
   ]
  },
  {
   "cell_type": "code",
   "execution_count": 168,
   "metadata": {},
   "outputs": [
    {
     "name": "stdout",
     "output_type": "stream",
     "text": [
      "고도비만(매우위험)\n"
     ]
    }
   ],
   "source": [
    "myHeight = int(input(\"키를 입력하세요\"))\n",
    "myWeight = int(input(\"몸무게를 입력하세요\"))\n",
    "standardWeight=0\n",
    "if myHeight <=150 :\n",
    "    standardWeight=myHeight-110\n",
    "else:\n",
    "    standardWeight=(myHeight-110)*0.9\n",
    "obesity=((myWeight-standardWeight)/standardWeight)*100\n",
    "if obesity <= 20 :\n",
    "    print(\"20%이하 정상(안심)\")\n",
    "elif obesity <= 30 :\n",
    "    print(\"경도비만(주의)\")\n",
    "elif obesity <= 50 :\n",
    "    print(\"중증도 비만(위험)\")\n",
    "else :\n",
    "    print(\"고도비만(매우위험)\")"
   ]
  },
  {
   "cell_type": "code",
   "execution_count": 174,
   "metadata": {},
   "outputs": [
    {
     "name": "stdout",
     "output_type": "stream",
     "text": [
      "x=1 \n",
      "x=2 \n",
      "x=3 \n",
      "x=4 \n",
      "x=5 \n",
      "x=6 \n",
      "x=7 \n",
      "x=8 \n",
      "x=9 \n",
      "x=10 \n",
      "------------------------------\n",
      "x의 최종값 11 \n"
     ]
    }
   ],
   "source": [
    "X = 1\n",
    "while X <= 10 :\n",
    "    print ( \"x=%d \" % X )\n",
    "    X += 1\n",
    "\n",
    "print ( \"-\" * 30 )\n",
    "print ( \"x의 최종값 %d \" % X )"
   ]
  },
  {
   "cell_type": "code",
   "execution_count": 175,
   "metadata": {},
   "outputs": [
    {
     "name": "stdout",
     "output_type": "stream",
     "text": [
      "입력값은 4입니다.\n",
      "------------------------------\n",
      "4 x 1 = 4 \n",
      "4 x 2 = 8 \n",
      "4 x 3 = 12 \n",
      "4 x 4 = 16 \n",
      "4 x 5 = 20 \n",
      "4 x 6 = 24 \n",
      "4 x 7 = 28 \n",
      "4 x 8 = 32 \n",
      "4 x 9 = 36 \n"
     ]
    }
   ],
   "source": [
    "x = int ( input ( \"숫자를 입력하세요..\" ) )\n",
    "print ( \"입력값은 %d입니다.\" % x )\n",
    "print ( \"-\" * 30 )\n",
    "\n",
    "y = 1\n",
    "while y < 10 :\n",
    "    z = x * y \n",
    "    print ( \"%d x %d = %d \" % ( x , y , z ) )\n",
    "    y += 1"
   ]
  },
  {
   "cell_type": "code",
   "execution_count": 176,
   "metadata": {},
   "outputs": [
    {
     "name": "stdout",
     "output_type": "stream",
     "text": [
      "x=1 , sum=1 \n",
      "x=2 , sum=3 \n",
      "x=3 , sum=6 \n",
      "x=4 , sum=10 \n",
      "x=5 , sum=15 \n",
      "x=6 , sum=21 \n",
      "x=7 , sum=28 \n",
      "x=8 , sum=36 \n",
      "x=9 , sum=45 \n",
      "x=10 , sum=55 \n"
     ]
    }
   ],
   "source": [
    "x = 1 \n",
    "sum = 0 \n",
    "while x <= 10 : \n",
    "    sum += x\n",
    "    print ( \"x=%d , sum=%d \" % (x , sum ) )\n",
    "    x += 1"
   ]
  },
  {
   "cell_type": "code",
   "execution_count": 178,
   "metadata": {},
   "outputs": [
    {
     "name": "stdout",
     "output_type": "stream",
     "text": [
      "a=0\n",
      "a=10\n",
      "a=20\n",
      "a=30\n",
      "a=40\n"
     ]
    }
   ],
   "source": [
    "a = 0\n",
    "while a < 50 :\n",
    "    print ( \"a=%d\" % a )\n",
    "    a += 10"
   ]
  },
  {
   "cell_type": "code",
   "execution_count": 179,
   "metadata": {},
   "outputs": [
    {
     "name": "stdout",
     "output_type": "stream",
     "text": [
      "b=10\n",
      "b=8\n",
      "b=6\n",
      "b=4\n",
      "b=2\n"
     ]
    }
   ],
   "source": [
    "b = 10\n",
    "while b > 0:\n",
    "    print ( \"b=%d\" % b )\n",
    "    b -= 2"
   ]
  },
  {
   "cell_type": "code",
   "execution_count": 185,
   "metadata": {},
   "outputs": [
    {
     "name": "stdout",
     "output_type": "stream",
     "text": [
      "10\n",
      "20\n",
      "30\n",
      "40\n",
      "50\n"
     ]
    }
   ],
   "source": [
    "mylist = [ 10 , 20 , 30 , 40 , 50 ]\n",
    "size = len(mylist)\n",
    "i = 0\n",
    "\n",
    "while i < size:\n",
    "    print (mylist[i])\n",
    "    i+=1"
   ]
  },
  {
   "cell_type": "code",
   "execution_count": 186,
   "metadata": {},
   "outputs": [
    {
     "name": "stdout",
     "output_type": "stream",
     "text": [
      "총점: 428, 평균: 85.6\n"
     ]
    }
   ],
   "source": [
    "성적표=[92,88,76,90,82]\n",
    "과목수=len(성적표)\n",
    "i=0\n",
    "합계점수=0\n",
    "\n",
    "while i <과목수:\n",
    "    합계점수 += 성적표[i]\n",
    "    i+=1\n",
    "\n",
    "평균점수 = 합계점수 / 과목수\n",
    "\n",
    "print(\"총점: %d, 평균: %0.1f\" % (합계점수, 평균점수))"
   ]
  },
  {
   "cell_type": "markdown",
   "metadata": {},
   "source": [
    "## 연습문제\n",
    "### 짝수의 합 구하기"
   ]
  },
  {
   "cell_type": "code",
   "execution_count": 204,
   "metadata": {},
   "outputs": [
    {
     "name": "stdout",
     "output_type": "stream",
     "text": [
      "총합:  2550\n"
     ]
    }
   ],
   "source": [
    "x = 0\n",
    "sum = 0 \n",
    "while x < 101 : \n",
    "    sum += x\n",
    "    x += 2\n",
    "print ( \"총합: \", sum)\n",
    "    "
   ]
  },
  {
   "cell_type": "markdown",
   "metadata": {},
   "source": [
    "### 혈액형 빈도수 구하기"
   ]
  },
  {
   "cell_type": "code",
   "execution_count": 202,
   "metadata": {},
   "outputs": [
    {
     "ename": "SyntaxError",
     "evalue": "closing parenthesis '}' does not match opening parenthesis '(' (2861896101.py, line 5)",
     "output_type": "error",
     "traceback": [
      "\u001b[1;36m  Cell \u001b[1;32mIn[202], line 5\u001b[1;36m\u001b[0m\n\u001b[1;33m    print(\"result = {\"A\":%d, \"B\":%d, \"O\":%d, \"AB\":%d\"})\u001b[0m\n\u001b[1;37m                                                     ^\u001b[0m\n\u001b[1;31mSyntaxError\u001b[0m\u001b[1;31m:\u001b[0m closing parenthesis '}' does not match opening parenthesis '('\n"
     ]
    }
   ],
   "source": [
    "혈액형_데이터= ['A', 'A', 'A', 'O', 'B', 'B', 'O', 'AB', 'AB', 'O']\n",
    "i=0\n",
    "while len(혈액형_데이터) <11:\n",
    "    \n",
    "    print(\"result = {\"A\":%d, \"B\":%d, \"O\":%d, \"AB\":%d\"})\n",
    "    print(dic%{혈액형_데이터[0],})\n",
    "    혈액형_데이터+=1\n"
   ]
  },
  {
   "cell_type": "code",
   "execution_count": 201,
   "metadata": {},
   "outputs": [
    {
     "data": {
      "text/plain": [
       "{'A': 3, 'B': 2, 'AB': 2, 'O': 3}"
      ]
     },
     "execution_count": 201,
     "metadata": {},
     "output_type": "execute_result"
    }
   ],
   "source": [
    "혈액형= ['A' , 'A' , 'A', 'O', 'B', 'B', 'O', 'AB', 'AB', 'O']\n",
    "result={\"A\" : 0 , \"B\" : 0 , \"AB\" : 0 , \"O\" : 0}\n",
    "\n",
    "i = 0\n",
    "\n",
    "while i <len(혈액형):\n",
    "    result[혈액형[i]] += 1\n",
    "    i += 1\n",
    "result"
   ]
  },
  {
   "cell_type": "markdown",
   "metadata": {},
   "source": [
    "### 연습문제"
   ]
  },
  {
   "cell_type": "code",
   "execution_count": 211,
   "metadata": {},
   "outputs": [
    {
     "ename": "SyntaxError",
     "evalue": "invalid syntax. Perhaps you forgot a comma? (3001252869.py, line 3)",
     "output_type": "error",
     "traceback": [
      "\u001b[1;36m  Cell \u001b[1;32mIn[211], line 3\u001b[1;36m\u001b[0m\n\u001b[1;33m    print(23-ssn{2})\u001b[0m\n\u001b[1;37m          ^\u001b[0m\n\u001b[1;31mSyntaxError\u001b[0m\u001b[1;31m:\u001b[0m invalid syntax. Perhaps you forgot a comma?\n"
     ]
    }
   ],
   "source": [
    "ssn = int(input(\"주민번호의 앞 부분과 뒷 부분의 첫번째 글자를 입력하세요.\"))\n",
    "if ssn<9000000:\n",
    "    print(23-ssn{2})\n",
    "\n",
    "print(\"당신은 %d세 남자입니다.\")\n"
   ]
  },
  {
   "cell_type": "code",
   "execution_count": 212,
   "metadata": {},
   "outputs": [
    {
     "name": "stdout",
     "output_type": "stream",
     "text": [
      "97\n"
     ]
    }
   ],
   "source": [
    "# 선생님 풀이\n",
    "ssn=input(\"주민번호의 앞 부분과 뒷 부분의 첫번째 글자를 입력하세요.\")\n",
    "\n",
    "birth= int(ssn[:2])\n",
    "print(birth)\n"
   ]
  },
  {
   "cell_type": "code",
   "execution_count": null,
   "metadata": {},
   "outputs": [],
   "source": [
    "gencode = ssn[-1]\n"
   ]
  }
 ],
 "metadata": {
  "kernelspec": {
   "display_name": "Python 3",
   "language": "python",
   "name": "python3"
  },
  "language_info": {
   "codemirror_mode": {
    "name": "ipython",
    "version": 3
   },
   "file_extension": ".py",
   "mimetype": "text/x-python",
   "name": "python",
   "nbconvert_exporter": "python",
   "pygments_lexer": "ipython3",
   "version": "3.12.0"
  },
  "orig_nbformat": 4
 },
 "nbformat": 4,
 "nbformat_minor": 2
}
